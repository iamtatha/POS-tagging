{
  "nbformat": 4,
  "nbformat_minor": 0,
  "metadata": {
    "colab": {
      "provenance": [],
      "include_colab_link": true
    },
    "kernelspec": {
      "name": "python3",
      "display_name": "Python 3"
    },
    "language_info": {
      "name": "python"
    },
    "accelerator": "GPU",
    "gpuClass": "standard"
  },
  "cells": [
    {
      "cell_type": "markdown",
      "metadata": {
        "id": "view-in-github",
        "colab_type": "text"
      },
      "source": [
        "<a href=\"https://colab.research.google.com/github/iamtatha/POS-tagging/blob/main/FFNN/POStaggingusingNN.ipynb\" target=\"_parent\"><img src=\"https://colab.research.google.com/assets/colab-badge.svg\" alt=\"Open In Colab\"/></a>"
      ]
    },
    {
      "cell_type": "code",
      "source": [
        "import nltk\n",
        "from nltk import word_tokenize"
      ],
      "metadata": {
        "id": "FmQ7uTinyW8q"
      },
      "execution_count": null,
      "outputs": []
    },
    {
      "cell_type": "code",
      "source": [
        "from nltk.corpus import brown\n",
        "from nltk.corpus import treebank\n",
        "from nltk.corpus import conll2000"
      ],
      "metadata": {
        "id": "AnW0XEF70HH5"
      },
      "execution_count": null,
      "outputs": []
    },
    {
      "cell_type": "code",
      "source": [
        "import nltk\n",
        "nltk.download('treebank')\n",
        "nltk.download('brown')\n",
        "nltk.download('conll2000')\n",
        "nltk.download('universal_tagset')"
      ],
      "metadata": {
        "colab": {
          "base_uri": "https://localhost:8080/"
        },
        "id": "_iYcedJ00XHn",
        "outputId": "b6f77257-ea2a-4133-9e57-e2bc4d8dddb1"
      },
      "execution_count": null,
      "outputs": [
        {
          "output_type": "stream",
          "name": "stderr",
          "text": [
            "[nltk_data] Downloading package treebank to /root/nltk_data...\n",
            "[nltk_data]   Package treebank is already up-to-date!\n",
            "[nltk_data] Downloading package brown to /root/nltk_data...\n",
            "[nltk_data]   Package brown is already up-to-date!\n",
            "[nltk_data] Downloading package conll2000 to /root/nltk_data...\n",
            "[nltk_data]   Package conll2000 is already up-to-date!\n",
            "[nltk_data] Downloading package universal_tagset to /root/nltk_data...\n",
            "[nltk_data]   Package universal_tagset is already up-to-date!\n"
          ]
        },
        {
          "output_type": "execute_result",
          "data": {
            "text/plain": [
              "True"
            ]
          },
          "metadata": {},
          "execution_count": 3
        }
      ]
    },
    {
      "cell_type": "code",
      "source": [
        "treebank_corpus = treebank.tagged_sents(tagset='universal')\n",
        "brown_corpus = brown.tagged_sents(tagset='universal')\n",
        "conll_corpus = conll2000.tagged_sents(tagset='universal')\n",
        "tagged_sentences = treebank_corpus + brown_corpus + conll_corpus"
      ],
      "metadata": {
        "id": "4vdJttipzxnb"
      },
      "execution_count": null,
      "outputs": []
    },
    {
      "cell_type": "code",
      "source": [
        "print(tagged_sentences)"
      ],
      "metadata": {
        "colab": {
          "base_uri": "https://localhost:8080/"
        },
        "id": "xNS3J4ynXeV5",
        "outputId": "26add868-8cb7-4d88-de3d-3a899f283adc"
      },
      "execution_count": null,
      "outputs": [
        {
          "output_type": "stream",
          "name": "stdout",
          "text": [
            "[[('Pierre', 'NOUN'), ('Vinken', 'NOUN'), (',', '.'), ('61', 'NUM'), ('years', 'NOUN'), ('old', 'ADJ'), (',', '.'), ('will', 'VERB'), ('join', 'VERB'), ('the', 'DET'), ('board', 'NOUN'), ('as', 'ADP'), ('a', 'DET'), ('nonexecutive', 'ADJ'), ('director', 'NOUN'), ('Nov.', 'NOUN'), ('29', 'NUM'), ('.', '.')], [('Mr.', 'NOUN'), ('Vinken', 'NOUN'), ('is', 'VERB'), ('chairman', 'NOUN'), ('of', 'ADP'), ('Elsevier', 'NOUN'), ('N.V.', 'NOUN'), (',', '.'), ('the', 'DET'), ('Dutch', 'NOUN'), ('publishing', 'VERB'), ('group', 'NOUN'), ('.', '.')], ...]\n"
          ]
        }
      ]
    },
    {
      "cell_type": "code",
      "source": [
        "X = [] # store input sequence\n",
        "Y = [] # store output sequence\n",
        "\n",
        "for sentence in tagged_sentences:\n",
        "    X_sentence = []\n",
        "    Y_sentence = []\n",
        "    for entity in sentence:         \n",
        "        X_sentence.append(entity[0])  # entity[0] contains the word\n",
        "        Y_sentence.append(entity[1])  # entity[1] contains corresponding tag\n",
        "        \n",
        "    X.append(X_sentence)\n",
        "    Y.append(Y_sentence)"
      ],
      "metadata": {
        "id": "ooE4o7JknSaq"
      },
      "execution_count": null,
      "outputs": []
    },
    {
      "cell_type": "code",
      "source": [
        "print(X[1])"
      ],
      "metadata": {
        "colab": {
          "base_uri": "https://localhost:8080/"
        },
        "id": "Uw6nNQMBWmDK",
        "outputId": "a60111fa-f90a-4216-a60c-ec14962c492b"
      },
      "execution_count": null,
      "outputs": [
        {
          "output_type": "stream",
          "name": "stdout",
          "text": [
            "['Mr.', 'Vinken', 'is', 'chairman', 'of', 'Elsevier', 'N.V.', ',', 'the', 'Dutch', 'publishing', 'group', '.']\n"
          ]
        }
      ]
    },
    {
      "cell_type": "code",
      "source": [
        "from keras.preprocessing.text import Tokenizer\n",
        "word_tokenizer = Tokenizer()              \n",
        "word_tokenizer.fit_on_texts(X)          \n",
        "X_encode = word_tokenizer.texts_to_sequences(X)  "
      ],
      "metadata": {
        "id": "Kkv3wq3zpVk4"
      },
      "execution_count": null,
      "outputs": []
    },
    {
      "cell_type": "code",
      "source": [
        "tag_token = Tokenizer()\n",
        "tag_token.fit_on_texts(Y)\n",
        "Y_encode = tag_token.texts_to_sequences(Y)\n"
      ],
      "metadata": {
        "id": "8moACJCT46Vi"
      },
      "execution_count": null,
      "outputs": []
    },
    {
      "cell_type": "code",
      "source": [
        "word2idx = tag_token.word_index\n",
        "# word2idx"
      ],
      "metadata": {
        "id": "gy68GX9viyKT"
      },
      "execution_count": null,
      "outputs": []
    },
    {
      "cell_type": "code",
      "source": [
        "print(X[0])\n",
        "print(Y[0])\n",
        "print(X_encode[0])\n",
        "print(Y_encode[0])"
      ],
      "metadata": {
        "colab": {
          "base_uri": "https://localhost:8080/"
        },
        "id": "YNKYhD8_-ybN",
        "outputId": "26697a5d-4595-462c-c522-6bc4cabcac4a"
      },
      "execution_count": null,
      "outputs": [
        {
          "output_type": "stream",
          "name": "stdout",
          "text": [
            "['Pierre', 'Vinken', ',', '61', 'years', 'old', ',', 'will', 'join', 'the', 'board', 'as', 'a', 'nonexecutive', 'director', 'Nov.', '29', '.']\n",
            "['NOUN', 'NOUN', '.', 'NUM', 'NOUN', 'ADJ', '.', 'VERB', 'VERB', 'DET', 'NOUN', 'ADP', 'DET', 'ADJ', 'NOUN', 'NOUN', 'NUM', '.']\n",
            "[6423, 24231, 2, 7652, 102, 170, 2, 47, 1898, 1, 269, 17, 7, 13230, 619, 1711, 2761, 3]\n",
            "[1, 1, 3, 11, 1, 6, 3, 2, 2, 5, 1, 4, 5, 6, 1, 1, 11, 3]\n"
          ]
        }
      ]
    },
    {
      "cell_type": "code",
      "source": [
        "lengths = [len(seq) for seq in X_encode]\n",
        "print(format(max(lengths)))"
      ],
      "metadata": {
        "colab": {
          "base_uri": "https://localhost:8080/"
        },
        "id": "Saf__Z8U_Krn",
        "outputId": "a6598fbd-d86c-4652-fa90-a4bb184b3632"
      },
      "execution_count": null,
      "outputs": [
        {
          "output_type": "stream",
          "name": "stdout",
          "text": [
            "271\n"
          ]
        }
      ]
    },
    {
      "cell_type": "code",
      "source": [
        "import keras"
      ],
      "metadata": {
        "id": "8gxRe0aaCvUQ"
      },
      "execution_count": null,
      "outputs": []
    },
    {
      "cell_type": "code",
      "source": [
        "from tensorflow.keras.preprocessing.sequence import pad_sequences"
      ],
      "metadata": {
        "id": "ax7c_jsBABgW"
      },
      "execution_count": null,
      "outputs": []
    },
    {
      "cell_type": "code",
      "source": [
        "MAX_LENGTH=271\n",
        "X_pad = pad_sequences(X_encode, maxlen=MAX_LENGTH, padding=\"pre\", truncating=\"post\")\n",
        "Y_pad = pad_sequences(Y_encode, maxlen=MAX_LENGTH, padding=\"pre\", truncating=\"post\")"
      ],
      "metadata": {
        "id": "DnuYc7KNDkn5"
      },
      "execution_count": null,
      "outputs": []
    },
    {
      "cell_type": "code",
      "source": [
        "X_final=X_pad\n",
        "Y_final=Y_pad"
      ],
      "metadata": {
        "id": "TeiaEJ-kEAJd"
      },
      "execution_count": null,
      "outputs": []
    },
    {
      "cell_type": "code",
      "source": [
        "from gensim.models import KeyedVectors"
      ],
      "metadata": {
        "id": "khRftBwBEGeI"
      },
      "execution_count": null,
      "outputs": []
    },
    {
      "cell_type": "code",
      "source": [
        "path = '/content/drive/MyDrive/POStagging/GoogleNews-vectors-negative300.bin'\n",
        "word2vec = KeyedVectors.load_word2vec_format(path, binary=True)"
      ],
      "metadata": {
        "id": "5kgnlXhiz1Z4"
      },
      "execution_count": null,
      "outputs": []
    },
    {
      "cell_type": "code",
      "source": [
        "import numpy as np"
      ],
      "metadata": {
        "id": "JUrDEOvQDTyz"
      },
      "execution_count": null,
      "outputs": []
    },
    {
      "cell_type": "code",
      "source": [
        "EMBEDDING_SIZE  = 300  # each word in word2vec model is represented using a 300 dimensional vector\n",
        "VOCABULARY_SIZE = len(word_tokenizer.word_index) + 1\n",
        "\n",
        "# create an empty embedding matix\n",
        "embedding_weights = np.zeros((VOCABULARY_SIZE, EMBEDDING_SIZE))\n",
        "\n",
        "# create a word to index dictionary mapping\n",
        "word2id = word_tokenizer.word_index\n",
        "\n",
        "# copy vectors from word2vec model to the words present in corpus\n",
        "for word, index in word2id.items():\n",
        "    try:\n",
        "        embedding_weights[index, :] = word2vec[word]\n",
        "    except KeyError:\n",
        "        pass"
      ],
      "metadata": {
        "id": "GLxBPs91B-tL"
      },
      "execution_count": null,
      "outputs": []
    },
    {
      "cell_type": "code",
      "source": [
        "print(\"Embeddings shape: {}\".format(embedding_weights.shape))"
      ],
      "metadata": {
        "colab": {
          "base_uri": "https://localhost:8080/"
        },
        "id": "VhIBXxNSDnxl",
        "outputId": "519808ed-26ba-4575-926f-1e74ee45d878"
      },
      "execution_count": null,
      "outputs": [
        {
          "output_type": "stream",
          "name": "stdout",
          "text": [
            "Embeddings shape: (59449, 300)\n"
          ]
        }
      ]
    },
    {
      "cell_type": "code",
      "source": [
        "embedding_weights[word_tokenizer.word_index['pierre']]"
      ],
      "metadata": {
        "colab": {
          "base_uri": "https://localhost:8080/"
        },
        "id": "G-B1K-n8Ds8E",
        "outputId": "0ab7e51f-9206-4e6c-c3d1-4a2e334c8250"
      },
      "execution_count": null,
      "outputs": [
        {
          "output_type": "execute_result",
          "data": {
            "text/plain": [
              "array([ 0.07324219, -0.00994873,  0.02490234,  0.30859375,  0.10742188,\n",
              "        0.20703125,  0.13085938, -0.22949219, -0.00805664, -0.02746582,\n",
              "       -0.20605469, -0.3984375 , -0.04296875, -0.04370117, -0.02636719,\n",
              "        0.19628906,  0.07128906,  0.18261719, -0.16992188,  0.11523438,\n",
              "        0.02819824,  0.03076172,  0.171875  , -0.06225586, -0.13671875,\n",
              "       -0.10888672, -0.14648438,  0.11230469, -0.05566406,  0.05712891,\n",
              "        0.07617188,  0.15429688, -0.01318359, -0.02539062, -0.17578125,\n",
              "        0.03979492, -0.0625    ,  0.15234375,  0.046875  , -0.19726562,\n",
              "        0.09716797, -0.03857422,  0.24414062, -0.07470703,  0.15136719,\n",
              "       -0.08251953, -0.16601562, -0.10107422, -0.15039062, -0.06689453,\n",
              "       -0.20800781,  0.12988281,  0.10546875, -0.06689453, -0.17089844,\n",
              "        0.13964844, -0.12695312, -0.02197266, -0.03100586, -0.21875   ,\n",
              "        0.08642578,  0.06445312,  0.08935547,  0.02856445, -0.02685547,\n",
              "       -0.23925781, -0.21484375, -0.25976562, -0.05737305,  0.2578125 ,\n",
              "        0.21875   ,  0.26367188, -0.16894531, -0.02478027, -0.17480469,\n",
              "        0.09228516,  0.01123047, -0.14550781, -0.12695312, -0.10693359,\n",
              "       -0.11279297,  0.03735352,  0.16894531, -0.13378906,  0.0324707 ,\n",
              "        0.18945312, -0.03344727,  0.23632812, -0.00537109, -0.07275391,\n",
              "       -0.16601562, -0.02453613, -0.01104736,  0.15917969, -0.1015625 ,\n",
              "        0.11083984,  0.00567627, -0.10205078, -0.02697754, -0.05932617,\n",
              "       -0.13085938,  0.18164062, -0.015625  ,  0.04541016, -0.05908203,\n",
              "       -0.04199219, -0.04296875,  0.27539062,  0.15722656,  0.15917969,\n",
              "       -0.13183594, -0.09521484,  0.03540039,  0.06982422,  0.06201172,\n",
              "        0.05810547, -0.14941406, -0.12011719,  0.109375  ,  0.09130859,\n",
              "        0.09521484, -0.13964844, -0.09912109, -0.01208496,  0.17480469,\n",
              "       -0.09667969, -0.16210938,  0.05224609,  0.14257812,  0.08935547,\n",
              "       -0.03686523,  0.17480469, -0.08642578,  0.07080078,  0.03393555,\n",
              "        0.0402832 , -0.12695312, -0.1875    ,  0.13183594,  0.15332031,\n",
              "        0.23144531, -0.00101471, -0.18066406, -0.16210938, -0.01159668,\n",
              "       -0.03686523, -0.01745605,  0.07128906, -0.11669922, -0.22265625,\n",
              "        0.03320312, -0.25390625, -0.22167969,  0.18945312, -0.01269531,\n",
              "       -0.22949219,  0.13769531,  0.390625  , -0.06201172,  0.02392578,\n",
              "       -0.00343323,  0.16210938, -0.13183594,  0.12890625, -0.08496094,\n",
              "        0.0267334 , -0.00723267,  0.18066406, -0.18359375,  0.04614258,\n",
              "       -0.30664062, -0.05029297, -0.08349609,  0.02929688, -0.02575684,\n",
              "        0.31054688,  0.16503906, -0.23046875,  0.2734375 , -0.11132812,\n",
              "        0.02612305,  0.13769531,  0.10742188,  0.01092529, -0.11767578,\n",
              "       -0.06298828, -0.01660156, -0.296875  ,  0.06103516,  0.1640625 ,\n",
              "        0.12011719,  0.00469971, -0.04760742, -0.14648438,  0.12890625,\n",
              "        0.07324219,  0.03662109,  0.16992188,  0.12597656,  0.2109375 ,\n",
              "       -0.0456543 ,  0.16699219, -0.02563477, -0.12011719,  0.09667969,\n",
              "       -0.08105469,  0.0625    ,  0.08007812, -0.24707031,  0.11083984,\n",
              "       -0.05029297, -0.02844238, -0.29492188,  0.0037384 , -0.10644531,\n",
              "        0.03344727,  0.0032196 , -0.29296875,  0.12890625,  0.0071106 ,\n",
              "        0.06689453,  0.04467773,  0.08789062,  0.12597656,  0.06787109,\n",
              "       -0.03125   , -0.00799561,  0.09814453, -0.05395508,  0.09472656,\n",
              "       -0.04272461, -0.0004673 , -0.26367188,  0.11669922, -0.00491333,\n",
              "       -0.12353516, -0.07714844, -0.01556396,  0.03540039,  0.06079102,\n",
              "        0.12109375,  0.0859375 ,  0.06689453,  0.03393555,  0.07470703,\n",
              "        0.11328125, -0.04443359,  0.16699219, -0.08300781, -0.07666016,\n",
              "        0.0534668 ,  0.15332031,  0.01074219,  0.26171875,  0.11962891,\n",
              "       -0.14160156, -0.19921875, -0.12792969,  0.1171875 , -0.12792969,\n",
              "       -0.03808594,  0.13671875,  0.06225586, -0.08837891,  0.07958984,\n",
              "        0.04492188,  0.09375   , -0.00811768,  0.07763672, -0.12597656,\n",
              "       -0.03930664, -0.09863281, -0.01470947,  0.02355957,  0.09912109,\n",
              "       -0.05639648, -0.140625  ,  0.11865234, -0.1875    ,  0.40820312,\n",
              "       -0.12011719,  0.1015625 ,  0.16601562, -0.12597656,  0.02819824,\n",
              "        0.08544922, -0.00927734,  0.08007812, -0.09326172,  0.02038574,\n",
              "        0.15722656,  0.12451172, -0.01745605,  0.15625   ,  0.05737305,\n",
              "       -0.09863281, -0.02966309, -0.2578125 ,  0.02819824,  0.16894531])"
            ]
          },
          "metadata": {},
          "execution_count": 23
        }
      ]
    },
    {
      "cell_type": "code",
      "source": [
        "del word2vec"
      ],
      "metadata": {
        "id": "NrpB-WzoHVIS"
      },
      "execution_count": null,
      "outputs": []
    },
    {
      "cell_type": "code",
      "source": [
        "import gc\n",
        "gc.collect()"
      ],
      "metadata": {
        "colab": {
          "base_uri": "https://localhost:8080/"
        },
        "id": "oCBA2irsHc2d",
        "outputId": "5e882480-989e-4ad5-c478-d24187dd0123"
      },
      "execution_count": null,
      "outputs": [
        {
          "output_type": "execute_result",
          "data": {
            "text/plain": [
              "10714"
            ]
          },
          "metadata": {},
          "execution_count": 31
        }
      ]
    },
    {
      "cell_type": "code",
      "source": [
        "from keras.utils.np_utils import to_categorical\n",
        "Y_final = to_categorical(Y_final)"
      ],
      "metadata": {
        "id": "TsKvZb8xEhCY"
      },
      "execution_count": null,
      "outputs": []
    },
    {
      "cell_type": "code",
      "source": [
        "print(Y_final.shape)"
      ],
      "metadata": {
        "colab": {
          "base_uri": "https://localhost:8080/"
        },
        "id": "fJ9KoBj3EzjX",
        "outputId": "9d5f84bb-2003-451d-9aeb-4bddfbd4ff23"
      },
      "execution_count": null,
      "outputs": [
        {
          "output_type": "stream",
          "name": "stdout",
          "text": [
            "(72202, 271, 13)\n"
          ]
        }
      ]
    },
    {
      "cell_type": "code",
      "source": [
        "import tensorflow as tf"
      ],
      "metadata": {
        "id": "JCc_01FOJYfX"
      },
      "execution_count": null,
      "outputs": []
    },
    {
      "cell_type": "code",
      "source": [
        "from sklearn.model_selection import train_test_split\n",
        "from sklearn.model_selection import KFold"
      ],
      "metadata": {
        "id": "Giu4M_AFFmjQ"
      },
      "execution_count": null,
      "outputs": []
    },
    {
      "cell_type": "markdown",
      "source": [
        "5 fold CV"
      ],
      "metadata": {
        "id": "eB7S0hlFG0Pg"
      }
    },
    {
      "cell_type": "code",
      "source": [
        "from sklearn.model_selection import KFold\n",
        "n_split=5\n",
        "\n",
        "for train_index,test_index in KFold(n_split).split(X_final):\n",
        "  x_train,x_test=X_final[train_index],X_final[test_index]\n",
        "  y_train,y_test=Y_final[train_index],Y_final[test_index]\n",
        "\n",
        "  model = tf.keras.Sequential([\n",
        "    tf.keras.layers.Embedding(VOCABULARY_SIZE,EMBEDDING_SIZE,input_length=MAX_LENGTH),\n",
        "    tf.keras.layers.Dense(units=Y_final.shape[2],activation='softmax')\n",
        "        ])\n",
        "  model.compile(loss='categorical_crossentropy', optimizer='adam', metrics=['accuracy'])\n",
        "  model.fit(x_train, y_train,epochs=5,batch_size=256)\n",
        "  \n",
        "  print('Model evaluation ',model.evaluate(x_test,y_test))\n",
        "\n",
        "prediction=model.predict(x_test)"
      ],
      "metadata": {
        "colab": {
          "base_uri": "https://localhost:8080/"
        },
        "id": "A9kt9-Cm-fH3",
        "outputId": "c6824925-f923-4b98-89b3-4bdd75380888"
      },
      "execution_count": null,
      "outputs": [
        {
          "output_type": "stream",
          "name": "stdout",
          "text": [
            "Epoch 1/5\n",
            "226/226 [==============================] - 34s 126ms/step - loss: 0.4907 - accuracy: 0.9803\n",
            "Epoch 2/5\n",
            "226/226 [==============================] - 14s 60ms/step - loss: 0.0361 - accuracy: 0.9956\n",
            "Epoch 3/5\n",
            "226/226 [==============================] - 10s 45ms/step - loss: 0.0206 - accuracy: 0.9963\n",
            "Epoch 4/5\n",
            "226/226 [==============================] - 7s 30ms/step - loss: 0.0154 - accuracy: 0.9964\n",
            "Epoch 5/5\n",
            "226/226 [==============================] - 5s 21ms/step - loss: 0.0128 - accuracy: 0.9964\n",
            "452/452 [==============================] - 2s 4ms/step - loss: 0.0259 - accuracy: 0.9922\n",
            "Model evaluation  [0.025929544121026993, 0.992169976234436]\n",
            "Epoch 1/5\n",
            "226/226 [==============================] - 21s 91ms/step - loss: 0.4776 - accuracy: 0.9887\n",
            "Epoch 2/5\n",
            "226/226 [==============================] - 13s 55ms/step - loss: 0.0355 - accuracy: 0.9955\n",
            "Epoch 3/5\n",
            "226/226 [==============================] - 8s 36ms/step - loss: 0.0207 - accuracy: 0.9962\n",
            "Epoch 4/5\n",
            "226/226 [==============================] - 6s 28ms/step - loss: 0.0155 - accuracy: 0.9963\n",
            "Epoch 5/5\n",
            "226/226 [==============================] - 5s 23ms/step - loss: 0.0130 - accuracy: 0.9963\n",
            "452/452 [==============================] - 2s 4ms/step - loss: 0.0195 - accuracy: 0.9941\n",
            "Model evaluation  [0.019519081339240074, 0.9940986633300781]\n",
            "Epoch 1/5\n",
            "226/226 [==============================] - 22s 94ms/step - loss: 0.4814 - accuracy: 0.9845\n",
            "Epoch 2/5\n",
            "226/226 [==============================] - 10s 43ms/step - loss: 0.0360 - accuracy: 0.9954\n",
            "Epoch 3/5\n",
            "226/226 [==============================] - 7s 33ms/step - loss: 0.0210 - accuracy: 0.9962\n",
            "Epoch 4/5\n",
            "226/226 [==============================] - 5s 21ms/step - loss: 0.0157 - accuracy: 0.9963\n",
            "Epoch 5/5\n",
            "226/226 [==============================] - 5s 22ms/step - loss: 0.0132 - accuracy: 0.9963\n",
            "452/452 [==============================] - 2s 4ms/step - loss: 0.0209 - accuracy: 0.9937\n",
            "Model evaluation  [0.020914966240525246, 0.9937384128570557]\n",
            "Epoch 1/5\n",
            "226/226 [==============================] - 25s 108ms/step - loss: 0.5017 - accuracy: 0.9797\n",
            "Epoch 2/5\n",
            "226/226 [==============================] - 13s 57ms/step - loss: 0.0376 - accuracy: 0.9952\n",
            "Epoch 3/5\n",
            "226/226 [==============================] - 7s 31ms/step - loss: 0.0219 - accuracy: 0.9960\n",
            "Epoch 4/5\n",
            "226/226 [==============================] - 7s 30ms/step - loss: 0.0165 - accuracy: 0.9961\n",
            "Epoch 5/5\n",
            "226/226 [==============================] - 5s 21ms/step - loss: 0.0138 - accuracy: 0.9961\n",
            "452/452 [==============================] - 2s 3ms/step - loss: 0.0142 - accuracy: 0.9958\n",
            "Model evaluation  [0.01422911323606968, 0.9957699775695801]\n",
            "Epoch 1/5\n",
            "226/226 [==============================] - 22s 92ms/step - loss: 0.4817 - accuracy: 0.9846\n",
            "Epoch 2/5\n",
            "226/226 [==============================] - 11s 50ms/step - loss: 0.0352 - accuracy: 0.9957\n",
            "Epoch 3/5\n",
            "226/226 [==============================] - 7s 29ms/step - loss: 0.0200 - accuracy: 0.9964\n",
            "Epoch 4/5\n",
            "226/226 [==============================] - 6s 27ms/step - loss: 0.0149 - accuracy: 0.9965\n",
            "Epoch 5/5\n",
            "226/226 [==============================] - 5s 20ms/step - loss: 0.0124 - accuracy: 0.9964\n",
            "452/452 [==============================] - 2s 3ms/step - loss: 0.0243 - accuracy: 0.9931\n",
            "Model evaluation  [0.024299494922161102, 0.9931442737579346]\n",
            "452/452 [==============================] - 1s 2ms/step\n"
          ]
        }
      ]
    },
    {
      "cell_type": "code",
      "source": [
        "model.evaluate(x_train,y_train)"
      ],
      "metadata": {
        "id": "awufCCWrIQWF"
      },
      "execution_count": null,
      "outputs": []
    },
    {
      "cell_type": "markdown",
      "source": [
        "Precision,F1,recall,heatmap,bleu,rouge score"
      ],
      "metadata": {
        "id": "XqFf3QvngaRA"
      }
    },
    {
      "cell_type": "code",
      "source": [
        "import sklearn.metrics"
      ],
      "metadata": {
        "id": "EdLjHUutgl-p"
      },
      "execution_count": null,
      "outputs": []
    },
    {
      "cell_type": "code",
      "source": [
        "prediction.shape"
      ],
      "metadata": {
        "colab": {
          "base_uri": "https://localhost:8080/"
        },
        "id": "VvBR29chlmqt",
        "outputId": "51856778-9051-4dd3-b881-f7b1f952493d"
      },
      "execution_count": null,
      "outputs": [
        {
          "output_type": "execute_result",
          "data": {
            "text/plain": [
              "(14440, 271, 13)"
            ]
          },
          "metadata": {},
          "execution_count": 33
        }
      ]
    },
    {
      "cell_type": "code",
      "source": [
        "pred=[]\n",
        "for i in range(prediction.shape[0]):\n",
        "  l=[]\n",
        "  for j in range(prediction.shape[1]):\n",
        "    k=np.argmax(prediction[i][j])\n",
        "    l.append(k)\n",
        "  pred.append(l)\n"
      ],
      "metadata": {
        "id": "5ivY-QQtlSgR"
      },
      "execution_count": null,
      "outputs": []
    },
    {
      "cell_type": "code",
      "source": [
        "np.asarray(pred).shape"
      ],
      "metadata": {
        "colab": {
          "base_uri": "https://localhost:8080/"
        },
        "id": "BowTrV2m6ajR",
        "outputId": "dd94de12-ba10-4bfa-d50b-9ec5d2c3bac2"
      },
      "execution_count": null,
      "outputs": [
        {
          "output_type": "execute_result",
          "data": {
            "text/plain": [
              "(14440, 271)"
            ]
          },
          "metadata": {},
          "execution_count": 35
        }
      ]
    },
    {
      "cell_type": "code",
      "source": [
        "true=[]\n",
        "for i in range(prediction.shape[0]):\n",
        "  l=[]\n",
        "  for j in range(prediction.shape[1]):\n",
        "    k=np.argmax(prediction[i][j])\n",
        "    l.append(k)\n",
        "  true.append(l)"
      ],
      "metadata": {
        "id": "yayUQKBp6gqC"
      },
      "execution_count": null,
      "outputs": []
    },
    {
      "cell_type": "code",
      "source": [
        "np.asarray(true).shape"
      ],
      "metadata": {
        "colab": {
          "base_uri": "https://localhost:8080/"
        },
        "id": "sDX1Ecyw7CxM",
        "outputId": "dc7e9d76-8428-4b2d-ad7e-2eafe7b13bfa"
      },
      "execution_count": null,
      "outputs": [
        {
          "output_type": "execute_result",
          "data": {
            "text/plain": [
              "(14440, 271)"
            ]
          },
          "metadata": {},
          "execution_count": 37
        }
      ]
    },
    {
      "cell_type": "code",
      "source": [
        "pred=np.asarray(pred)\n",
        "true=np.asarray(true)"
      ],
      "metadata": {
        "id": "uvgUO8hx7cy-"
      },
      "execution_count": null,
      "outputs": []
    },
    {
      "cell_type": "code",
      "source": [
        "word2idx"
      ],
      "metadata": {
        "colab": {
          "base_uri": "https://localhost:8080/"
        },
        "id": "R6fpqocEEJNh",
        "outputId": "719424b0-cef7-4e61-c3ab-9c3739e42ab7"
      },
      "execution_count": null,
      "outputs": [
        {
          "output_type": "execute_result",
          "data": {
            "text/plain": [
              "{'noun': 1,\n",
              " 'verb': 2,\n",
              " '.': 3,\n",
              " 'adp': 4,\n",
              " 'det': 5,\n",
              " 'adj': 6,\n",
              " 'adv': 7,\n",
              " 'pron': 8,\n",
              " 'conj': 9,\n",
              " 'prt': 10,\n",
              " 'num': 11,\n",
              " 'x': 12}"
            ]
          },
          "metadata": {},
          "execution_count": 39
        }
      ]
    },
    {
      "cell_type": "code",
      "source": [
        "pred1=pred.reshape(1,pred.shape[0]*pred.shape[1])\n",
        "true1=true.reshape(1,true.shape[0]*true.shape[1])"
      ],
      "metadata": {
        "id": "P3e4QFBoKh9A"
      },
      "execution_count": null,
      "outputs": []
    },
    {
      "cell_type": "code",
      "source": [
        "print(sklearn.metrics.confusion_matrix(true1[0],pred1[0]))"
      ],
      "metadata": {
        "colab": {
          "base_uri": "https://localhost:8080/"
        },
        "id": "4r5hZCN-Kyfy",
        "outputId": "f11bc808-6592-4484-8d10-ab909204693c"
      },
      "execution_count": null,
      "outputs": [
        {
          "output_type": "stream",
          "name": "stdout",
          "text": [
            "[[3599833       0       0       0       0       0       0       0       0\n",
            "        0       0       0       0]\n",
            " [      0   87047       0       0       0       0       0       0       0\n",
            "        0       0       0       0]\n",
            " [      0       0   46607       0       0       0       0       0       0\n",
            "        0       0       0       0]\n",
            " [      0       0       0   41613       0       0       0       0       0\n",
            "        0       0       0       0]\n",
            " [      0       0       0       0   34523       0       0       0       0\n",
            "        0       0       0       0]\n",
            " [      0       0       0       0       0   30893       0       0       0\n",
            "        0       0       0       0]\n",
            " [      0       0       0       0       0       0   21261       0       0\n",
            "        0       0       0       0]\n",
            " [      0       0       0       0       0       0       0   11838       0\n",
            "        0       0       0       0]\n",
            " [      0       0       0       0       0       0       0       0    9061\n",
            "        0       0       0       0]\n",
            " [      0       0       0       0       0       0       0       0       0\n",
            "     8609       0       0       0]\n",
            " [      0       0       0       0       0       0       0       0       0\n",
            "        0   12975       0       0]\n",
            " [      0       0       0       0       0       0       0       0       0\n",
            "        0       0    8878       0]\n",
            " [      0       0       0       0       0       0       0       0       0\n",
            "        0       0       0     102]]\n"
          ]
        }
      ]
    },
    {
      "cell_type": "code",
      "source": [
        "print(sklearn.metrics.classification_report(true1[0],pred1[0],digits=2))"
      ],
      "metadata": {
        "colab": {
          "base_uri": "https://localhost:8080/"
        },
        "id": "LpOvNHH4LZBO",
        "outputId": "3041784b-1b82-417d-b1a8-762c23846834"
      },
      "execution_count": null,
      "outputs": [
        {
          "output_type": "stream",
          "name": "stdout",
          "text": [
            "              precision    recall  f1-score   support\n",
            "\n",
            "           0       1.00      1.00      1.00   3599833\n",
            "           1       1.00      1.00      1.00     87047\n",
            "           2       1.00      1.00      1.00     46607\n",
            "           3       1.00      1.00      1.00     41613\n",
            "           4       1.00      1.00      1.00     34523\n",
            "           5       1.00      1.00      1.00     30893\n",
            "           6       1.00      1.00      1.00     21261\n",
            "           7       1.00      1.00      1.00     11838\n",
            "           8       1.00      1.00      1.00      9061\n",
            "           9       1.00      1.00      1.00      8609\n",
            "          10       1.00      1.00      1.00     12975\n",
            "          11       1.00      1.00      1.00      8878\n",
            "          12       1.00      1.00      1.00       102\n",
            "\n",
            "    accuracy                           1.00   3913240\n",
            "   macro avg       1.00      1.00      1.00   3913240\n",
            "weighted avg       1.00      1.00      1.00   3913240\n",
            "\n"
          ]
        }
      ]
    },
    {
      "cell_type": "code",
      "source": [
        "cmatrix=np.zeros((13,13))\n",
        "for i in range(pred.shape[0]):\n",
        "  for j in range(pred.shape[1]):\n",
        "    cmatrix[true[i][j]][pred[i][j]]=cmatrix[true[i][j]][pred[i][j]]+1"
      ],
      "metadata": {
        "id": "fE0vmhgJqlzk"
      },
      "execution_count": null,
      "outputs": []
    },
    {
      "cell_type": "code",
      "source": [
        "finalcmatrix=np.zeros((12,12))\n",
        "for i in range(1,cmatrix.shape[0]):\n",
        "  for j in range(1,cmatrix.shape[1]):\n",
        "    finalcmatrix[i-1][j-1]=cmatrix[i][j]"
      ],
      "metadata": {
        "id": "hmdVmdKOFqH4"
      },
      "execution_count": null,
      "outputs": []
    },
    {
      "cell_type": "code",
      "source": [
        "#confusion matrix\n",
        "print(finalcmatrix)"
      ],
      "metadata": {
        "colab": {
          "base_uri": "https://localhost:8080/"
        },
        "id": "2Sv2B2CkJoOH",
        "outputId": "58b19edd-115b-4d57-97a7-ae5e952aaa74"
      },
      "execution_count": null,
      "outputs": [
        {
          "output_type": "stream",
          "name": "stdout",
          "text": [
            "[[87047.     0.     0.     0.     0.     0.     0.     0.     0.     0.\n",
            "      0.     0.]\n",
            " [    0. 46607.     0.     0.     0.     0.     0.     0.     0.     0.\n",
            "      0.     0.]\n",
            " [    0.     0. 41613.     0.     0.     0.     0.     0.     0.     0.\n",
            "      0.     0.]\n",
            " [    0.     0.     0. 34523.     0.     0.     0.     0.     0.     0.\n",
            "      0.     0.]\n",
            " [    0.     0.     0.     0. 30893.     0.     0.     0.     0.     0.\n",
            "      0.     0.]\n",
            " [    0.     0.     0.     0.     0. 21261.     0.     0.     0.     0.\n",
            "      0.     0.]\n",
            " [    0.     0.     0.     0.     0.     0. 11838.     0.     0.     0.\n",
            "      0.     0.]\n",
            " [    0.     0.     0.     0.     0.     0.     0.  9061.     0.     0.\n",
            "      0.     0.]\n",
            " [    0.     0.     0.     0.     0.     0.     0.     0.  8609.     0.\n",
            "      0.     0.]\n",
            " [    0.     0.     0.     0.     0.     0.     0.     0.     0. 12975.\n",
            "      0.     0.]\n",
            " [    0.     0.     0.     0.     0.     0.     0.     0.     0.     0.\n",
            "   8878.     0.]\n",
            " [    0.     0.     0.     0.     0.     0.     0.     0.     0.     0.\n",
            "      0.   102.]]\n"
          ]
        }
      ]
    },
    {
      "cell_type": "code",
      "source": [
        "from sklearn.metrics import fbeta_score\n",
        "fbeta_score(true1[0], pred1[0], average='macro', beta=2)"
      ],
      "metadata": {
        "colab": {
          "base_uri": "https://localhost:8080/"
        },
        "id": "1BxP3kWmPtOb",
        "outputId": "e512bfaf-3b20-4eda-eb57-e8ef2ba9d59e"
      },
      "execution_count": null,
      "outputs": [
        {
          "output_type": "execute_result",
          "data": {
            "text/plain": [
              "1.0"
            ]
          },
          "metadata": {},
          "execution_count": 49
        }
      ]
    },
    {
      "cell_type": "markdown",
      "source": [
        "TESTING"
      ],
      "metadata": {
        "id": "LUr3gWZ-dSAQ"
      }
    },
    {
      "cell_type": "code",
      "source": [
        "from nltk.tokenize import word_tokenize\n",
        "def tokenize(sentence):\n",
        "  oplist=word_tokenize(sentence)\n",
        "  testlist=[]\n",
        "  testlist.append(oplist)\n",
        "  testlist\n",
        "  return testlist"
      ],
      "metadata": {
        "id": "hJk4wJnWXW_k"
      },
      "execution_count": null,
      "outputs": []
    },
    {
      "cell_type": "code",
      "source": [
        "sentence=\"No skipping classes from tomorrow.\"\n",
        "testlist=tokenize(sentence)\n",
        "print(testlist)"
      ],
      "metadata": {
        "colab": {
          "base_uri": "https://localhost:8080/"
        },
        "id": "0F_cw1EuRKNl",
        "outputId": "e1ae1c8d-5d66-4a67-fd6f-b288cf49d160"
      },
      "execution_count": null,
      "outputs": [
        {
          "output_type": "stream",
          "name": "stdout",
          "text": [
            "[['No', 'skipping', 'classes', 'from', 'tomorrow', '.']]\n"
          ]
        }
      ]
    },
    {
      "cell_type": "code",
      "source": [
        "import nltk\n",
        "nltk.download('punkt')"
      ],
      "metadata": {
        "colab": {
          "base_uri": "https://localhost:8080/"
        },
        "id": "Q8ujyH-uahoQ",
        "outputId": "994b4060-dfb5-4c60-962c-afbf18bd46cd"
      },
      "execution_count": null,
      "outputs": [
        {
          "output_type": "stream",
          "name": "stderr",
          "text": [
            "[nltk_data] Downloading package punkt to /root/nltk_data...\n",
            "[nltk_data]   Package punkt is already up-to-date!\n"
          ]
        },
        {
          "output_type": "execute_result",
          "data": {
            "text/plain": [
              "True"
            ]
          },
          "metadata": {},
          "execution_count": 62
        }
      ]
    },
    {
      "cell_type": "code",
      "source": [
        "test_samples_X = []\n",
        "for s in testlist:\n",
        "    s_int = []\n",
        "    for w in s:\n",
        "        try:\n",
        "            s_int.append(word2id[w.lower()])\n",
        "        except KeyError:\n",
        "            pass\n",
        "    test_samples_X.append(s_int)\n",
        "input_length=len(test_samples_X[0]) \n",
        "test_samples_X = pad_sequences(test_samples_X, maxlen=MAX_LENGTH, padding='pre')\n",
        "print(test_samples_X)"
      ],
      "metadata": {
        "colab": {
          "base_uri": "https://localhost:8080/"
        },
        "id": "RVyiO_39GUzC",
        "outputId": "2996193a-c757-4d22-9074-c739e11da667"
      },
      "execution_count": null,
      "outputs": [
        {
          "output_type": "stream",
          "name": "stdout",
          "text": [
            "[[    0     0     0     0     0     0     0     0     0     0     0     0\n",
            "      0     0     0     0     0     0     0     0     0     0     0     0\n",
            "      0     0     0     0     0     0     0     0     0     0     0     0\n",
            "      0     0     0     0     0     0     0     0     0     0     0     0\n",
            "      0     0     0     0     0     0     0     0     0     0     0     0\n",
            "      0     0     0     0     0     0     0     0     0     0     0     0\n",
            "      0     0     0     0     0     0     0     0     0     0     0     0\n",
            "      0     0     0     0     0     0     0     0     0     0     0     0\n",
            "      0     0     0     0     0     0     0     0     0     0     0     0\n",
            "      0     0     0     0     0     0     0     0     0     0     0     0\n",
            "      0     0     0     0     0     0     0     0     0     0     0     0\n",
            "      0     0     0     0     0     0     0     0     0     0     0     0\n",
            "      0     0     0     0     0     0     0     0     0     0     0     0\n",
            "      0     0     0     0     0     0     0     0     0     0     0     0\n",
            "      0     0     0     0     0     0     0     0     0     0     0     0\n",
            "      0     0     0     0     0     0     0     0     0     0     0     0\n",
            "      0     0     0     0     0     0     0     0     0     0     0     0\n",
            "      0     0     0     0     0     0     0     0     0     0     0     0\n",
            "      0     0     0     0     0     0     0     0     0     0     0     0\n",
            "      0     0     0     0     0     0     0     0     0     0     0     0\n",
            "      0     0     0     0     0     0     0     0     0     0     0     0\n",
            "      0     0     0     0     0     0     0     0     0     0     0     0\n",
            "      0    67 16391  1649    24  1915     3]]\n"
          ]
        }
      ]
    },
    {
      "cell_type": "code",
      "source": [
        "print(input_length)"
      ],
      "metadata": {
        "colab": {
          "base_uri": "https://localhost:8080/"
        },
        "id": "o54xwqjvYTpn",
        "outputId": "84e0a1af-c7c1-425e-ef98-f421b2a2def1"
      },
      "execution_count": null,
      "outputs": [
        {
          "output_type": "stream",
          "name": "stdout",
          "text": [
            "6\n"
          ]
        }
      ]
    },
    {
      "cell_type": "code",
      "source": [
        "final=model.predict(test_samples_X)\n",
        "sh=final.shape\n",
        "final"
      ],
      "metadata": {
        "colab": {
          "base_uri": "https://localhost:8080/"
        },
        "id": "zzU5LWideJzT",
        "outputId": "683eb3d9-c2d8-4f1d-a96f-a9c5bfbd0b67"
      },
      "execution_count": null,
      "outputs": [
        {
          "output_type": "stream",
          "name": "stdout",
          "text": [
            "1/1 [==============================] - 0s 24ms/step\n"
          ]
        },
        {
          "output_type": "execute_result",
          "data": {
            "text/plain": [
              "array([[[9.9959201e-01, 3.0752137e-05, 3.3786404e-05, ...,\n",
              "         3.2938151e-05, 2.8785804e-05, 3.3024968e-05],\n",
              "        [9.9959201e-01, 3.0752137e-05, 3.3786404e-05, ...,\n",
              "         3.2938151e-05, 2.8785804e-05, 3.3024968e-05],\n",
              "        [9.9959201e-01, 3.0752137e-05, 3.3786404e-05, ...,\n",
              "         3.2938151e-05, 2.8785804e-05, 3.3024968e-05],\n",
              "        ...,\n",
              "        [5.1463394e-05, 9.3497147e-05, 1.2227039e-04, ...,\n",
              "         4.9704191e-04, 9.4878356e-05, 1.7691478e-04],\n",
              "        [9.3209055e-05, 9.9852353e-01, 2.9078967e-04, ...,\n",
              "         9.0474088e-05, 9.9730998e-05, 1.2870728e-04],\n",
              "        [5.4564058e-05, 1.5791644e-04, 6.5237335e-05, ...,\n",
              "         9.1641326e-05, 1.5154327e-04, 1.9525386e-04]]], dtype=float32)"
            ]
          },
          "metadata": {},
          "execution_count": 65
        }
      ]
    },
    {
      "cell_type": "code",
      "source": [
        "l=[]\n",
        "for i in range(sh[0]):\n",
        "  for j in range(sh[1]):\n",
        "    l.append(np.argmax(final[i][j]))\n",
        "print(l)"
      ],
      "metadata": {
        "colab": {
          "base_uri": "https://localhost:8080/"
        },
        "id": "ga52HFAEetpg",
        "outputId": "cb96f247-98b2-48ea-dea2-fbfa0fd5bd33"
      },
      "execution_count": null,
      "outputs": [
        {
          "output_type": "stream",
          "name": "stdout",
          "text": [
            "[0, 0, 0, 0, 0, 0, 0, 0, 0, 0, 0, 0, 0, 0, 0, 0, 0, 0, 0, 0, 0, 0, 0, 0, 0, 0, 0, 0, 0, 0, 0, 0, 0, 0, 0, 0, 0, 0, 0, 0, 0, 0, 0, 0, 0, 0, 0, 0, 0, 0, 0, 0, 0, 0, 0, 0, 0, 0, 0, 0, 0, 0, 0, 0, 0, 0, 0, 0, 0, 0, 0, 0, 0, 0, 0, 0, 0, 0, 0, 0, 0, 0, 0, 0, 0, 0, 0, 0, 0, 0, 0, 0, 0, 0, 0, 0, 0, 0, 0, 0, 0, 0, 0, 0, 0, 0, 0, 0, 0, 0, 0, 0, 0, 0, 0, 0, 0, 0, 0, 0, 0, 0, 0, 0, 0, 0, 0, 0, 0, 0, 0, 0, 0, 0, 0, 0, 0, 0, 0, 0, 0, 0, 0, 0, 0, 0, 0, 0, 0, 0, 0, 0, 0, 0, 0, 0, 0, 0, 0, 0, 0, 0, 0, 0, 0, 0, 0, 0, 0, 0, 0, 0, 0, 0, 0, 0, 0, 0, 0, 0, 0, 0, 0, 0, 0, 0, 0, 0, 0, 0, 0, 0, 0, 0, 0, 0, 0, 0, 0, 0, 0, 0, 0, 0, 0, 0, 0, 0, 0, 0, 0, 0, 0, 0, 0, 0, 0, 0, 0, 0, 0, 0, 0, 0, 0, 0, 0, 0, 0, 0, 0, 0, 0, 0, 0, 0, 0, 0, 0, 0, 0, 0, 0, 0, 0, 0, 0, 0, 0, 0, 0, 0, 0, 0, 0, 0, 0, 0, 0, 0, 0, 0, 0, 0, 0, 5, 2, 1, 4, 1, 3]\n"
          ]
        }
      ]
    },
    {
      "cell_type": "code",
      "source": [
        "word2idx"
      ],
      "metadata": {
        "colab": {
          "base_uri": "https://localhost:8080/"
        },
        "id": "wlJry4eXgpuE",
        "outputId": "eff6eb80-fde7-495f-c4cc-892ece9d39f5"
      },
      "execution_count": null,
      "outputs": [
        {
          "output_type": "execute_result",
          "data": {
            "text/plain": [
              "{'noun': 1,\n",
              " 'verb': 2,\n",
              " '.': 3,\n",
              " 'adp': 4,\n",
              " 'det': 5,\n",
              " 'adj': 6,\n",
              " 'adv': 7,\n",
              " 'pron': 8,\n",
              " 'conj': 9,\n",
              " 'prt': 10,\n",
              " 'num': 11,\n",
              " 'x': 12}"
            ]
          },
          "metadata": {},
          "execution_count": 58
        }
      ]
    },
    {
      "cell_type": "code",
      "source": [
        "tags=[]\n",
        "output=[]\n",
        "tags=list(word2idx.keys())\n",
        "tags\n",
        "for elements in range(len(l)-input_length,len(l)):\n",
        "  output.append(tags[l[elements]-1])\n",
        "output"
      ],
      "metadata": {
        "colab": {
          "base_uri": "https://localhost:8080/"
        },
        "id": "_BwhH4MTilSo",
        "outputId": "f68f9382-f366-43f4-837a-3e46da7599d3"
      },
      "execution_count": null,
      "outputs": [
        {
          "output_type": "execute_result",
          "data": {
            "text/plain": [
              "['det', 'verb', 'noun', 'adp', 'noun', '.']"
            ]
          },
          "metadata": {},
          "execution_count": 67
        }
      ]
    },
    {
      "cell_type": "markdown",
      "source": [
        "plot model"
      ],
      "metadata": {
        "id": "W2JdghyS15Eq"
      }
    },
    {
      "cell_type": "code",
      "source": [
        "img_file = './model_arch.png'\n",
        "\n",
        "tf.keras.utils.plot_model(model, to_file=img_file, show_shapes=True, show_layer_names=True)"
      ],
      "metadata": {
        "id": "YXJ31I_914h0"
      },
      "execution_count": null,
      "outputs": []
    },
    {
      "cell_type": "markdown",
      "source": [
        "5 FOLD CROSS VALIDATION\n"
      ],
      "metadata": {
        "id": "ti0Rh-_DAMiU"
      }
    }
  ]
}