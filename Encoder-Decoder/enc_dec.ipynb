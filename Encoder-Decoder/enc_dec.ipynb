{
  "nbformat": 4,
  "nbformat_minor": 0,
  "metadata": {
    "colab": {
      "provenance": [],
      "include_colab_link": true
    },
    "kernelspec": {
      "name": "python3",
      "display_name": "Python 3"
    },
    "language_info": {
      "name": "python"
    },
    "accelerator": "GPU",
    "gpuClass": "standard"
  },
  "cells": [
    {
      "cell_type": "markdown",
      "metadata": {
        "id": "view-in-github",
        "colab_type": "text"
      },
      "source": [
        "<a href=\"https://colab.research.google.com/github/iamtatha/POS-tagging/blob/main/Encoder-Decoder/enc_dec.ipynb\" target=\"_parent\"><img src=\"https://colab.research.google.com/assets/colab-badge.svg\" alt=\"Open In Colab\"/></a>"
      ]
    },
    {
      "cell_type": "code",
      "execution_count": null,
      "metadata": {
        "colab": {
          "base_uri": "https://localhost:8080/"
        },
        "id": "nKadIqA6Os2N",
        "outputId": "0cdd44ba-dabb-4e79-e2f5-f7cc4f40b04e"
      },
      "outputs": [
        {
          "output_type": "stream",
          "name": "stderr",
          "text": [
            "[nltk_data] Downloading package treebank to /root/nltk_data...\n",
            "[nltk_data]   Unzipping corpora/treebank.zip.\n",
            "[nltk_data] Downloading package brown to /root/nltk_data...\n",
            "[nltk_data]   Unzipping corpora/brown.zip.\n",
            "[nltk_data] Downloading package conll2000 to /root/nltk_data...\n",
            "[nltk_data]   Unzipping corpora/conll2000.zip.\n",
            "[nltk_data] Downloading package universal_tagset to /root/nltk_data...\n",
            "[nltk_data]   Unzipping taggers/universal_tagset.zip.\n"
          ]
        },
        {
          "output_type": "stream",
          "name": "stdout",
          "text": [
            "1 Physical GPUs, 1 Logical GPUs\n",
            "Version:  2.12.0\n",
            "Eager mode:  True\n",
            "Hub version:  0.13.0\n",
            "GPU is available\n"
          ]
        }
      ],
      "source": [
        "import os\n",
        "import numpy as np\n",
        "import pandas as pd\n",
        "import matplotlib.pyplot as plt\n",
        "import string\n",
        "import re\n",
        "import keras\n",
        "\n",
        "import seaborn as sns\n",
        "from sklearn.utils import shuffle\n",
        "from sklearn.model_selection import train_test_split\n",
        "from keras.layers import Input, LSTM, Embedding, Dense, RepeatVector\n",
        "from keras.models import Model\n",
        "from keras.preprocessing.text import Tokenizer\n",
        "from tensorflow.keras.preprocessing.sequence import pad_sequences\n",
        "from sklearn.model_selection import LeaveOneOut,KFold\n",
        "\n",
        "import nltk\n",
        "nltk.download('treebank')\n",
        "nltk.download('brown')\n",
        "nltk.download('conll2000')\n",
        "nltk.download('universal_tagset')\n",
        "from nltk.corpus import brown\n",
        "from nltk.corpus import treebank\n",
        "from nltk.corpus import conll2000\n",
        "import nltk\n",
        "from nltk import word_tokenize\n",
        "\n",
        "from gensim.models import KeyedVectors\n",
        "\n",
        "import tensorflow as tf\n",
        "import tensorflow_hub as hub\n",
        "from keras.utils import np_utils\n",
        "gpus = tf.config.experimental.list_physical_devices('GPU')\n",
        "if gpus:\n",
        "  try:\n",
        "    for gpu in gpus:\n",
        "      tf.config.experimental.set_memory_growth(gpu, True)\n",
        "    logical_gpus = tf.config.experimental.list_logical_devices('GPU')\n",
        "    print(len(gpus), \"Physical GPUs,\", len(logical_gpus), \"Logical GPUs\")\n",
        "  except RuntimeError as e:\n",
        "    print(e)\n",
        "print(\"Version: \", tf.__version__)\n",
        "print(\"Eager mode: \", tf.executing_eagerly())\n",
        "print(\"Hub version: \", hub.__version__)\n",
        "print(\"GPU is\", \"available\" if tf.config.list_physical_devices('GPU') else \"NOT AVAILABLE\")"
      ]
    },
    {
      "cell_type": "code",
      "source": [
        "from google.colab import drive\n",
        "drive.mount('/content/drive')"
      ],
      "metadata": {
        "colab": {
          "base_uri": "https://localhost:8080/"
        },
        "id": "rsFutrC2OKCW",
        "outputId": "b1744ef2-2e5b-4559-b538-4ac591ec515b"
      },
      "execution_count": null,
      "outputs": [
        {
          "output_type": "stream",
          "name": "stdout",
          "text": [
            "Mounted at /content/drive\n"
          ]
        }
      ]
    },
    {
      "cell_type": "code",
      "source": [
        "path = '/content/drive/MyDrive/GoogleNews-vectors-negative300.bin'\n",
        "word2vec = KeyedVectors.load_word2vec_format(path, binary=True)"
      ],
      "metadata": {
        "id": "LUnKab5ROtgr"
      },
      "execution_count": null,
      "outputs": []
    },
    {
      "cell_type": "code",
      "source": [
        "treebank_corpus = treebank.tagged_sents(tagset='universal')\n",
        "brown_corpus = brown.tagged_sents(tagset='universal')\n",
        "conll_corpus = conll2000.tagged_sents(tagset='universal')\n",
        "tagged_sentences = treebank_corpus + brown_corpus + conll_corpus\n",
        "# tagged_sentences = brown_corpus"
      ],
      "metadata": {
        "id": "rNrkzSFjPFTI"
      },
      "execution_count": null,
      "outputs": []
    },
    {
      "cell_type": "code",
      "source": [
        "X_original = [] # store input sequence\n",
        "Y_original = [] # store output sequence\n",
        "\n",
        "X_final_test = []\n",
        "Y_final_test = []\n",
        "\n",
        "tags = set()\n",
        "i = 0\n",
        "\n",
        "for sentence in tagged_sentences:\n",
        "  i += 1\n",
        "\n",
        "  if(i % 1000 != 0):     \n",
        "    X_sentence = []\n",
        "    Y_sentence = []\n",
        "    for entity in sentence:         \n",
        "        X_sentence.append(entity[0])  # entity[0] contains the word\n",
        "        Y_sentence.append(entity[1])  # entity[1] contains corresponding tag\n",
        "        tags.add(entity[1]) \n",
        "\n",
        "    X_original.append(X_sentence)\n",
        "    Y_original.append(Y_sentence)\n",
        "  \n",
        "  else:\n",
        "    X_sentence = \"\"\n",
        "    Y_sentence = \"\"\n",
        "    for entity in sentence:         \n",
        "        X_sentence += entity[0]\n",
        "        Y_sentence += entity[1]\n",
        "        X_sentence += \" \"\n",
        "        Y_sentence += \" \"\n",
        "         \n",
        "    X_final_test.append(X_sentence)\n",
        "    Y_final_test.append(Y_sentence)"
      ],
      "metadata": {
        "id": "Zrk8_A6PPFpq"
      },
      "execution_count": null,
      "outputs": []
    },
    {
      "cell_type": "code",
      "source": [
        "word_tokenizer = Tokenizer()              \n",
        "word_tokenizer.fit_on_texts(X_original)   \n",
        "tag_token = Tokenizer()\n",
        "tag_token.fit_on_texts(Y_original)"
      ],
      "metadata": {
        "id": "p5dJLAPuPGfF"
      },
      "execution_count": null,
      "outputs": []
    },
    {
      "cell_type": "code",
      "source": [
        "X_encoded = word_tokenizer.texts_to_sequences(X_original) \n",
        "Y_encoded = tag_token.texts_to_sequences(Y_original)"
      ],
      "metadata": {
        "id": "WOGrVXpEPHTq"
      },
      "execution_count": null,
      "outputs": []
    },
    {
      "cell_type": "code",
      "source": [
        "EMBEDDING_SIZE  = 300  # each word in word2vec model is represented using a 300 dimensional vector\n",
        "VOCABULARY_SIZE = len(word_tokenizer.word_index) + 1\n",
        "\n",
        "# create an empty embedding matix\n",
        "embedding_weights = np.zeros((VOCABULARY_SIZE, EMBEDDING_SIZE))\n",
        "\n",
        "# create a word to index dictionary mapping\n",
        "word2id = word_tokenizer.word_index\n",
        "\n",
        "# copy vectors from word2vec model to the words present in corpus\n",
        "for word, index in word2id.items():\n",
        "    try:\n",
        "        embedding_weights[index, :] = word2vec[word]\n",
        "    except KeyError:\n",
        "        pass"
      ],
      "metadata": {
        "id": "LtAjmQm3PIk8"
      },
      "execution_count": null,
      "outputs": []
    },
    {
      "cell_type": "code",
      "source": [
        "MAX_LENGTH=272\n",
        "X = pad_sequences(X_encoded, maxlen=MAX_LENGTH, padding=\"post\", truncating=\"pre\")\n",
        "Y = pad_sequences(Y_encoded, maxlen=MAX_LENGTH-1, padding=\"post\", truncating=\"pre\")"
      ],
      "metadata": {
        "id": "-UckG-2vQKmT"
      },
      "execution_count": null,
      "outputs": []
    },
    {
      "cell_type": "code",
      "source": [
        "del word2vec"
      ],
      "metadata": {
        "id": "ZCx2cAULQLxe"
      },
      "execution_count": null,
      "outputs": []
    },
    {
      "cell_type": "code",
      "source": [
        "import gc\n",
        "gc.collect()"
      ],
      "metadata": {
        "colab": {
          "base_uri": "https://localhost:8080/"
        },
        "id": "RJg00R0CQMiX",
        "outputId": "24cd1bd3-c1a7-4dec-ad6d-66141d8095bd"
      },
      "execution_count": null,
      "outputs": [
        {
          "output_type": "execute_result",
          "data": {
            "text/plain": [
              "0"
            ]
          },
          "metadata": {},
          "execution_count": 11
        }
      ]
    },
    {
      "cell_type": "code",
      "source": [
        "latent_dim = 300\n",
        "num_encoder_tokens = 300\n",
        "num_decoder_tokens = 15"
      ],
      "metadata": {
        "id": "DMal5KO-QNS2"
      },
      "execution_count": null,
      "outputs": []
    },
    {
      "cell_type": "code",
      "source": [
        "embedding_layer = Embedding(VOCABULARY_SIZE, EMBEDDING_SIZE, weights=[embedding_weights], input_length=MAX_LENGTH, mask_zero=True)\n",
        "encoder_inputs = Input(shape=(MAX_LENGTH,))\n",
        "x = embedding_layer(encoder_inputs)\n",
        "encoder = LSTM(latent_dim, return_state=True)\n",
        "\n",
        "encoder_outputs, state_h, state_c = encoder(x)\n",
        "# We discard `encoder_outputs` and only keep the states.\n",
        "encoder_states = [state_h, state_c]\n",
        "\n",
        "# Set up the decoder, using `encoder_states` as initial state.\n",
        "decoder_inputs = Input(shape=(MAX_LENGTH,))\n",
        "decoder_embedding = Embedding(num_decoder_tokens, latent_dim)\n",
        "decoder_inputs_x = decoder_embedding(decoder_inputs)\n",
        "# We set up our decoder to return full output sequences,\n",
        "# and to return internal states as well. We don't use the\n",
        "# return states in the training model, but we will use them in inference.\n",
        "decoder_lstm = LSTM(latent_dim, return_sequences=True, return_state=True)\n",
        "decoder_outputs, _, _ = decoder_lstm(decoder_inputs_x,\n",
        "                                    initial_state=encoder_states)\n",
        "decoder_dense = Dense(num_decoder_tokens, activation='softmax')\n",
        "decoder_outputs = decoder_dense(decoder_outputs)\n",
        "\n",
        "model = Model([encoder_inputs, decoder_inputs], decoder_outputs)\n",
        "model.compile(optimizer='rmsprop', loss='categorical_crossentropy', metrics=['accuracy'])\n",
        "model.summary()"
      ],
      "metadata": {
        "colab": {
          "base_uri": "https://localhost:8080/"
        },
        "id": "D0lXu8i4QOVc",
        "outputId": "9a52af38-f3d2-420b-e2c8-b43d0cdd14ed"
      },
      "execution_count": null,
      "outputs": [
        {
          "output_type": "stream",
          "name": "stdout",
          "text": [
            "Model: \"model\"\n",
            "__________________________________________________________________________________________________\n",
            " Layer (type)                   Output Shape         Param #     Connected to                     \n",
            "==================================================================================================\n",
            " input_1 (InputLayer)           [(None, 272)]        0           []                               \n",
            "                                                                                                  \n",
            " input_2 (InputLayer)           [(None, 272)]        0           []                               \n",
            "                                                                                                  \n",
            " embedding (Embedding)          (None, 272, 300)     17824500    ['input_1[0][0]']                \n",
            "                                                                                                  \n",
            " embedding_1 (Embedding)        (None, 272, 300)     4500        ['input_2[0][0]']                \n",
            "                                                                                                  \n",
            " lstm (LSTM)                    [(None, 300),        721200      ['embedding[0][0]']              \n",
            "                                 (None, 300),                                                     \n",
            "                                 (None, 300)]                                                     \n",
            "                                                                                                  \n",
            " lstm_1 (LSTM)                  [(None, 272, 300),   721200      ['embedding_1[0][0]',            \n",
            "                                 (None, 300),                     'lstm[0][1]',                   \n",
            "                                 (None, 300)]                     'lstm[0][2]']                   \n",
            "                                                                                                  \n",
            " dense (Dense)                  (None, 272, 15)      4515        ['lstm_1[0][0]']                 \n",
            "                                                                                                  \n",
            "==================================================================================================\n",
            "Total params: 19,275,915\n",
            "Trainable params: 19,275,915\n",
            "Non-trainable params: 0\n",
            "__________________________________________________________________________________________________\n"
          ]
        }
      ]
    },
    {
      "cell_type": "code",
      "source": [
        "X_train, X_test, y_train, y_test = train_test_split(X, Y, random_state=42, test_size=0.20, shuffle=True)\n",
        "X_final = X_train\n",
        "Y_final = []\n",
        "\n",
        "for i in range(len(y_train)):\n",
        "   Y_final.append(np.array([13] + list(y_train[i])))\n",
        "Y_final = np.array(Y_final)\n",
        "\n",
        "decoder_target_data = np.zeros((len(X_train), MAX_LENGTH, num_decoder_tokens), dtype='float32')\n",
        "\n",
        "for sentence, (input_text, target_text) in enumerate(zip(X_final, Y_final)):\n",
        "  for t, tag in enumerate(target_text):\n",
        "    if(t > 0):\n",
        "      decoder_target_data[sentence, t-1, tag] = 1.\n",
        "    \n",
        "  decoder_target_data[sentence, t, 14] = 1\n",
        "\n",
        "model.fit([X_final, Y_final], decoder_target_data,batch_size=100,epochs=100, validation_split=0.2)"
      ],
      "metadata": {
        "colab": {
          "base_uri": "https://localhost:8080/"
        },
        "id": "v_QqJVhUzk3E",
        "outputId": "363eef62-0ec8-479a-dd28-dae22a719fa7"
      },
      "execution_count": null,
      "outputs": [
        {
          "output_type": "stream",
          "name": "stdout",
          "text": [
            "Epoch 1/100\n",
            "462/462 [==============================] - 83s 153ms/step - loss: 0.2057 - accuracy: 0.9374 - val_loss: 0.1710 - val_accuracy: 0.9479\n",
            "Epoch 2/100\n",
            "462/462 [==============================] - 40s 87ms/step - loss: 0.1630 - accuracy: 0.9493 - val_loss: 0.1596 - val_accuracy: 0.9495\n",
            "Epoch 3/100\n",
            "462/462 [==============================] - 41s 89ms/step - loss: 0.1550 - accuracy: 0.9510 - val_loss: 0.1487 - val_accuracy: 0.9520\n",
            "Epoch 4/100\n",
            "462/462 [==============================] - 37s 80ms/step - loss: 0.1485 - accuracy: 0.9522 - val_loss: 0.1441 - val_accuracy: 0.9528\n",
            "Epoch 5/100\n",
            "462/462 [==============================] - 36s 78ms/step - loss: 0.1455 - accuracy: 0.9531 - val_loss: 0.1423 - val_accuracy: 0.9531\n",
            "Epoch 6/100\n",
            "462/462 [==============================] - 38s 83ms/step - loss: 0.1429 - accuracy: 0.9537 - val_loss: 0.1404 - val_accuracy: 0.9536\n",
            "Epoch 7/100\n",
            "462/462 [==============================] - 39s 84ms/step - loss: 0.1408 - accuracy: 0.9543 - val_loss: 0.1479 - val_accuracy: 0.9542\n",
            "Epoch 8/100\n",
            "462/462 [==============================] - 36s 77ms/step - loss: 0.1389 - accuracy: 0.9550 - val_loss: 0.1355 - val_accuracy: 0.9551\n",
            "Epoch 9/100\n",
            "462/462 [==============================] - 38s 82ms/step - loss: 0.1363 - accuracy: 0.9557 - val_loss: 0.1392 - val_accuracy: 0.9562\n",
            "Epoch 10/100\n",
            "462/462 [==============================] - 35s 77ms/step - loss: 0.1340 - accuracy: 0.9564 - val_loss: 0.1310 - val_accuracy: 0.9562\n",
            "Epoch 11/100\n",
            "462/462 [==============================] - 36s 77ms/step - loss: 0.1317 - accuracy: 0.9572 - val_loss: 0.1308 - val_accuracy: 0.9564\n",
            "Epoch 12/100\n",
            "462/462 [==============================] - 35s 76ms/step - loss: 0.1292 - accuracy: 0.9580 - val_loss: 0.1290 - val_accuracy: 0.9585\n",
            "Epoch 13/100\n",
            "462/462 [==============================] - 36s 77ms/step - loss: 0.1266 - accuracy: 0.9589 - val_loss: 0.1274 - val_accuracy: 0.9592\n",
            "Epoch 14/100\n",
            "462/462 [==============================] - 35s 77ms/step - loss: 0.1239 - accuracy: 0.9596 - val_loss: 0.1230 - val_accuracy: 0.9594\n",
            "Epoch 15/100\n",
            "462/462 [==============================] - 35s 76ms/step - loss: 0.1215 - accuracy: 0.9604 - val_loss: 0.1241 - val_accuracy: 0.9611\n",
            "Epoch 16/100\n",
            "462/462 [==============================] - 35s 76ms/step - loss: 0.1191 - accuracy: 0.9612 - val_loss: 0.1184 - val_accuracy: 0.9605\n",
            "Epoch 17/100\n",
            "462/462 [==============================] - 37s 81ms/step - loss: 0.1165 - accuracy: 0.9619 - val_loss: 0.1162 - val_accuracy: 0.9620\n",
            "Epoch 18/100\n",
            "462/462 [==============================] - 38s 81ms/step - loss: 0.1143 - accuracy: 0.9627 - val_loss: 0.1113 - val_accuracy: 0.9628\n",
            "Epoch 19/100\n",
            "462/462 [==============================] - 38s 81ms/step - loss: 0.1119 - accuracy: 0.9635 - val_loss: 0.1094 - val_accuracy: 0.9637\n",
            "Epoch 20/100\n",
            "462/462 [==============================] - 35s 76ms/step - loss: 0.1098 - accuracy: 0.9643 - val_loss: 0.1058 - val_accuracy: 0.9647\n",
            "Epoch 21/100\n",
            "462/462 [==============================] - 35s 76ms/step - loss: 0.1070 - accuracy: 0.9651 - val_loss: 0.1067 - val_accuracy: 0.9653\n",
            "Epoch 22/100\n",
            "462/462 [==============================] - 35s 76ms/step - loss: 0.1095 - accuracy: 0.9659 - val_loss: 0.1055 - val_accuracy: 0.9659\n",
            "Epoch 23/100\n",
            "462/462 [==============================] - 35s 75ms/step - loss: 0.1038 - accuracy: 0.9668 - val_loss: 0.1070 - val_accuracy: 0.9671\n",
            "Epoch 24/100\n",
            "462/462 [==============================] - 37s 81ms/step - loss: 0.1003 - accuracy: 0.9675 - val_loss: 0.1030 - val_accuracy: 0.9670\n",
            "Epoch 25/100\n",
            "462/462 [==============================] - 35s 75ms/step - loss: 0.0974 - accuracy: 0.9683 - val_loss: 0.1210 - val_accuracy: 0.9667\n",
            "Epoch 26/100\n",
            "462/462 [==============================] - 37s 80ms/step - loss: 0.0952 - accuracy: 0.9691 - val_loss: 0.0972 - val_accuracy: 0.9691\n",
            "Epoch 27/100\n",
            "462/462 [==============================] - 35s 76ms/step - loss: 0.0927 - accuracy: 0.9699 - val_loss: 0.0931 - val_accuracy: 0.9696\n",
            "Epoch 28/100\n",
            "462/462 [==============================] - 35s 75ms/step - loss: 0.0902 - accuracy: 0.9706 - val_loss: 0.0908 - val_accuracy: 0.9701\n",
            "Epoch 29/100\n",
            "462/462 [==============================] - 37s 81ms/step - loss: 0.0879 - accuracy: 0.9714 - val_loss: 0.0900 - val_accuracy: 0.9712\n",
            "Epoch 30/100\n",
            "462/462 [==============================] - 37s 80ms/step - loss: 0.0855 - accuracy: 0.9722 - val_loss: 0.0858 - val_accuracy: 0.9720\n",
            "Epoch 31/100\n",
            "462/462 [==============================] - 35s 75ms/step - loss: 0.0837 - accuracy: 0.9729 - val_loss: 0.0824 - val_accuracy: 0.9731\n",
            "Epoch 32/100\n",
            "462/462 [==============================] - 35s 76ms/step - loss: 0.0817 - accuracy: 0.9735 - val_loss: 0.0878 - val_accuracy: 0.9735\n",
            "Epoch 33/100\n",
            "462/462 [==============================] - 35s 75ms/step - loss: 0.0796 - accuracy: 0.9742 - val_loss: 0.0795 - val_accuracy: 0.9738\n",
            "Epoch 34/100\n",
            "462/462 [==============================] - 35s 76ms/step - loss: 0.0777 - accuracy: 0.9748 - val_loss: 0.0774 - val_accuracy: 0.9744\n",
            "Epoch 35/100\n",
            "462/462 [==============================] - 37s 80ms/step - loss: 0.0760 - accuracy: 0.9754 - val_loss: 0.0743 - val_accuracy: 0.9750\n",
            "Epoch 36/100\n",
            "462/462 [==============================] - 37s 80ms/step - loss: 0.0756 - accuracy: 0.9760 - val_loss: 0.0731 - val_accuracy: 0.9753\n",
            "Epoch 37/100\n",
            "462/462 [==============================] - 35s 76ms/step - loss: 0.0725 - accuracy: 0.9765 - val_loss: 0.0729 - val_accuracy: 0.9761\n",
            "Epoch 38/100\n",
            "462/462 [==============================] - 37s 80ms/step - loss: 0.0710 - accuracy: 0.9770 - val_loss: 0.0744 - val_accuracy: 0.9751\n",
            "Epoch 39/100\n",
            "462/462 [==============================] - 35s 75ms/step - loss: 0.0694 - accuracy: 0.9775 - val_loss: 0.0741 - val_accuracy: 0.9768\n",
            "Epoch 40/100\n",
            "462/462 [==============================] - 35s 75ms/step - loss: 0.0680 - accuracy: 0.9780 - val_loss: 0.0700 - val_accuracy: 0.9770\n",
            "Epoch 41/100\n",
            "462/462 [==============================] - 37s 80ms/step - loss: 0.0667 - accuracy: 0.9785 - val_loss: 0.0690 - val_accuracy: 0.9774\n",
            "Epoch 42/100\n",
            "462/462 [==============================] - 35s 76ms/step - loss: 0.0653 - accuracy: 0.9789 - val_loss: 0.0662 - val_accuracy: 0.9780\n",
            "Epoch 43/100\n",
            "462/462 [==============================] - 35s 75ms/step - loss: 0.0637 - accuracy: 0.9793 - val_loss: 0.0683 - val_accuracy: 0.9784\n",
            "Epoch 44/100\n",
            "462/462 [==============================] - 37s 80ms/step - loss: 0.0625 - accuracy: 0.9797 - val_loss: 0.0604 - val_accuracy: 0.9792\n",
            "Epoch 45/100\n",
            "462/462 [==============================] - 35s 75ms/step - loss: 0.0622 - accuracy: 0.9799 - val_loss: 0.0653 - val_accuracy: 0.9793\n",
            "Epoch 46/100\n",
            "462/462 [==============================] - 35s 75ms/step - loss: 0.0606 - accuracy: 0.9804 - val_loss: 0.0638 - val_accuracy: 0.9797\n",
            "Epoch 47/100\n",
            "462/462 [==============================] - 37s 81ms/step - loss: 0.0595 - accuracy: 0.9808 - val_loss: 0.0613 - val_accuracy: 0.9802\n",
            "Epoch 48/100\n",
            "462/462 [==============================] - 37s 80ms/step - loss: 0.0585 - accuracy: 0.9811 - val_loss: 0.0593 - val_accuracy: 0.9803\n",
            "Epoch 49/100\n",
            "462/462 [==============================] - 38s 82ms/step - loss: 0.0577 - accuracy: 0.9813 - val_loss: 0.0628 - val_accuracy: 0.9795\n",
            "Epoch 50/100\n",
            "462/462 [==============================] - 37s 80ms/step - loss: 0.0573 - accuracy: 0.9816 - val_loss: 0.0603 - val_accuracy: 0.9803\n",
            "Epoch 51/100\n",
            "462/462 [==============================] - 37s 80ms/step - loss: 0.0559 - accuracy: 0.9819 - val_loss: 0.0575 - val_accuracy: 0.9812\n",
            "Epoch 52/100\n",
            "462/462 [==============================] - 37s 80ms/step - loss: 0.0547 - accuracy: 0.9823 - val_loss: 0.0595 - val_accuracy: 0.9816\n",
            "Epoch 53/100\n",
            "462/462 [==============================] - 35s 76ms/step - loss: 0.0544 - accuracy: 0.9824 - val_loss: 0.0750 - val_accuracy: 0.9810\n",
            "Epoch 54/100\n",
            "462/462 [==============================] - 35s 77ms/step - loss: 0.0534 - accuracy: 0.9828 - val_loss: 0.0560 - val_accuracy: 0.9815\n",
            "Epoch 55/100\n",
            "462/462 [==============================] - 37s 80ms/step - loss: 0.0526 - accuracy: 0.9830 - val_loss: 0.0557 - val_accuracy: 0.9818\n",
            "Epoch 56/100\n",
            "462/462 [==============================] - 35s 75ms/step - loss: 0.0531 - accuracy: 0.9833 - val_loss: 0.0669 - val_accuracy: 0.9817\n",
            "Epoch 57/100\n",
            "462/462 [==============================] - 35s 76ms/step - loss: 0.0550 - accuracy: 0.9836 - val_loss: 0.0555 - val_accuracy: 0.9814\n",
            "Epoch 58/100\n",
            "462/462 [==============================] - 35s 75ms/step - loss: 0.0500 - accuracy: 0.9838 - val_loss: 0.0518 - val_accuracy: 0.9826\n",
            "Epoch 59/100\n",
            "462/462 [==============================] - 35s 77ms/step - loss: 0.0490 - accuracy: 0.9841 - val_loss: 0.0497 - val_accuracy: 0.9830\n",
            "Epoch 60/100\n",
            "462/462 [==============================] - 37s 80ms/step - loss: 0.0486 - accuracy: 0.9843 - val_loss: 0.0504 - val_accuracy: 0.9833\n",
            "Epoch 61/100\n",
            "462/462 [==============================] - 37s 80ms/step - loss: 0.0475 - accuracy: 0.9846 - val_loss: 0.0515 - val_accuracy: 0.9826\n",
            "Epoch 62/100\n",
            "462/462 [==============================] - 35s 77ms/step - loss: 0.0471 - accuracy: 0.9847 - val_loss: 0.0556 - val_accuracy: 0.9833\n",
            "Epoch 63/100\n",
            "462/462 [==============================] - 37s 80ms/step - loss: 0.0464 - accuracy: 0.9849 - val_loss: 0.0577 - val_accuracy: 0.9832\n",
            "Epoch 64/100\n",
            "462/462 [==============================] - 37s 80ms/step - loss: 0.0459 - accuracy: 0.9851 - val_loss: 0.0490 - val_accuracy: 0.9838\n",
            "Epoch 65/100\n",
            "462/462 [==============================] - 37s 81ms/step - loss: 0.0453 - accuracy: 0.9853 - val_loss: 0.0535 - val_accuracy: 0.9823\n",
            "Epoch 66/100\n",
            "462/462 [==============================] - 35s 75ms/step - loss: 0.0449 - accuracy: 0.9854 - val_loss: 0.0489 - val_accuracy: 0.9841\n",
            "Epoch 67/100\n",
            "462/462 [==============================] - 37s 81ms/step - loss: 0.0456 - accuracy: 0.9854 - val_loss: 0.0479 - val_accuracy: 0.9837\n",
            "Epoch 68/100\n",
            "462/462 [==============================] - 38s 82ms/step - loss: 0.0441 - accuracy: 0.9857 - val_loss: 0.0570 - val_accuracy: 0.9834\n",
            "Epoch 69/100\n",
            "462/462 [==============================] - 37s 80ms/step - loss: 0.0435 - accuracy: 0.9859 - val_loss: 0.0506 - val_accuracy: 0.9838\n",
            "Epoch 70/100\n",
            "462/462 [==============================] - 37s 80ms/step - loss: 0.0427 - accuracy: 0.9861 - val_loss: 0.0459 - val_accuracy: 0.9844\n",
            "Epoch 71/100\n",
            "462/462 [==============================] - 37s 80ms/step - loss: 0.0424 - accuracy: 0.9862 - val_loss: 0.0471 - val_accuracy: 0.9841\n",
            "Epoch 72/100\n",
            "462/462 [==============================] - 37s 80ms/step - loss: 0.0420 - accuracy: 0.9863 - val_loss: 0.0484 - val_accuracy: 0.9839\n",
            "Epoch 73/100\n",
            "462/462 [==============================] - 37s 81ms/step - loss: 0.0442 - accuracy: 0.9865 - val_loss: 0.0570 - val_accuracy: 0.9846\n",
            "Epoch 74/100\n",
            "462/462 [==============================] - 37s 80ms/step - loss: 0.0414 - accuracy: 0.9868 - val_loss: 0.0481 - val_accuracy: 0.9841\n",
            "Epoch 75/100\n",
            "462/462 [==============================] - 35s 76ms/step - loss: 0.0405 - accuracy: 0.9869 - val_loss: 0.0484 - val_accuracy: 0.9845\n",
            "Epoch 76/100\n",
            "462/462 [==============================] - 35s 75ms/step - loss: 0.0401 - accuracy: 0.9870 - val_loss: 0.0548 - val_accuracy: 0.9849\n",
            "Epoch 77/100\n",
            "462/462 [==============================] - 37s 81ms/step - loss: 0.0397 - accuracy: 0.9872 - val_loss: 0.0466 - val_accuracy: 0.9841\n",
            "Epoch 78/100\n",
            "462/462 [==============================] - 38s 81ms/step - loss: 0.0397 - accuracy: 0.9871 - val_loss: 0.0432 - val_accuracy: 0.9852\n",
            "Epoch 79/100\n",
            "462/462 [==============================] - 37s 80ms/step - loss: 0.0390 - accuracy: 0.9874 - val_loss: 0.0461 - val_accuracy: 0.9849\n",
            "Epoch 80/100\n",
            "462/462 [==============================] - 37s 80ms/step - loss: 0.0393 - accuracy: 0.9874 - val_loss: 0.0529 - val_accuracy: 0.9822\n",
            "Epoch 81/100\n",
            "462/462 [==============================] - 35s 75ms/step - loss: 0.0380 - accuracy: 0.9877 - val_loss: 0.0445 - val_accuracy: 0.9850\n",
            "Epoch 82/100\n",
            "462/462 [==============================] - 37s 80ms/step - loss: 0.0375 - accuracy: 0.9878 - val_loss: 0.0622 - val_accuracy: 0.9849\n",
            "Epoch 83/100\n",
            "462/462 [==============================] - 35s 75ms/step - loss: 0.0375 - accuracy: 0.9878 - val_loss: 0.0476 - val_accuracy: 0.9857\n",
            "Epoch 84/100\n",
            "462/462 [==============================] - 37s 81ms/step - loss: 0.0367 - accuracy: 0.9881 - val_loss: 0.0474 - val_accuracy: 0.9854\n",
            "Epoch 85/100\n",
            "462/462 [==============================] - 35s 75ms/step - loss: 0.0365 - accuracy: 0.9881 - val_loss: 0.0524 - val_accuracy: 0.9851\n",
            "Epoch 86/100\n",
            "462/462 [==============================] - 38s 82ms/step - loss: 0.0363 - accuracy: 0.9882 - val_loss: 0.0440 - val_accuracy: 0.9853\n",
            "Epoch 87/100\n",
            "462/462 [==============================] - 35s 76ms/step - loss: 0.0408 - accuracy: 0.9881 - val_loss: 0.0478 - val_accuracy: 0.9855\n",
            "Epoch 88/100\n",
            "462/462 [==============================] - 37s 81ms/step - loss: 0.0369 - accuracy: 0.9884 - val_loss: 0.0443 - val_accuracy: 0.9853\n",
            "Epoch 89/100\n",
            "462/462 [==============================] - 37s 81ms/step - loss: 0.0353 - accuracy: 0.9885 - val_loss: 0.0421 - val_accuracy: 0.9856\n",
            "Epoch 90/100\n",
            "462/462 [==============================] - 37s 81ms/step - loss: 0.0350 - accuracy: 0.9886 - val_loss: 0.0429 - val_accuracy: 0.9858\n",
            "Epoch 91/100\n",
            "462/462 [==============================] - 35s 76ms/step - loss: 0.0353 - accuracy: 0.9885 - val_loss: 0.0419 - val_accuracy: 0.9861\n",
            "Epoch 92/100\n",
            "462/462 [==============================] - 37s 81ms/step - loss: 0.0341 - accuracy: 0.9888 - val_loss: 0.0456 - val_accuracy: 0.9853\n",
            "Epoch 93/100\n",
            "462/462 [==============================] - 37s 81ms/step - loss: 0.0341 - accuracy: 0.9889 - val_loss: 0.0461 - val_accuracy: 0.9864\n",
            "Epoch 94/100\n",
            "462/462 [==============================] - 37s 80ms/step - loss: 0.0340 - accuracy: 0.9890 - val_loss: 0.0465 - val_accuracy: 0.9859\n",
            "Epoch 95/100\n",
            "462/462 [==============================] - 35s 75ms/step - loss: 0.0338 - accuracy: 0.9890 - val_loss: 0.0421 - val_accuracy: 0.9860\n",
            "Epoch 96/100\n",
            "462/462 [==============================] - 37s 80ms/step - loss: 0.0335 - accuracy: 0.9890 - val_loss: 0.0437 - val_accuracy: 0.9857\n",
            "Epoch 97/100\n",
            "462/462 [==============================] - 37s 80ms/step - loss: 0.0328 - accuracy: 0.9893 - val_loss: 0.0415 - val_accuracy: 0.9863\n",
            "Epoch 98/100\n",
            "462/462 [==============================] - 37s 80ms/step - loss: 0.0325 - accuracy: 0.9894 - val_loss: 0.0416 - val_accuracy: 0.9858\n",
            "Epoch 99/100\n",
            "462/462 [==============================] - 37s 81ms/step - loss: 0.0328 - accuracy: 0.9892 - val_loss: 0.0421 - val_accuracy: 0.9862\n",
            "Epoch 100/100\n",
            "462/462 [==============================] - 37s 80ms/step - loss: 0.0322 - accuracy: 0.9895 - val_loss: 0.0413 - val_accuracy: 0.9862\n"
          ]
        },
        {
          "output_type": "execute_result",
          "data": {
            "text/plain": [
              "<keras.callbacks.History at 0x7ff88db41fc0>"
            ]
          },
          "metadata": {},
          "execution_count": 14
        }
      ]
    },
    {
      "cell_type": "code",
      "source": [
        "X_testing = X_test\n",
        "Y_testing = []\n",
        "\n",
        "for i in range(len(y_test)):\n",
        "  Y_testing.append(np.array([13] + list(y_test[i])))  \n",
        "\n",
        "Y_testing = np.array(Y_testing)\n",
        "decoder_data = np.zeros((len(X_testing), MAX_LENGTH, num_decoder_tokens), dtype='float32')\n",
        "\n",
        "for sentence, (input_text, target_text) in enumerate(zip(X_testing, Y_testing)):\n",
        "  for t, tag in enumerate(target_text):\n",
        "    if(t < len(target_text)-1):\n",
        "      decoder_data[sentence, t, tag] = 1.\n",
        "    \n",
        "  decoder_data[sentence, t, 13] = 1\n",
        "\n",
        "print(\"Testing\")\n",
        "  # Testing\n",
        "model.evaluate([X_testing, Y_testing], decoder_data)"
      ],
      "metadata": {
        "colab": {
          "base_uri": "https://localhost:8080/"
        },
        "id": "BjEokRSY1ibY",
        "outputId": "c6e936ef-77fc-4669-fc85-71665160478d"
      },
      "execution_count": null,
      "outputs": [
        {
          "output_type": "stream",
          "name": "stdout",
          "text": [
            "Testing\n",
            "451/451 [==============================] - 6s 13ms/step - loss: 0.7710 - accuracy: 0.9228\n"
          ]
        },
        {
          "output_type": "execute_result",
          "data": {
            "text/plain": [
              "[0.770990788936615, 0.922829806804657]"
            ]
          },
          "metadata": {},
          "execution_count": 15
        }
      ]
    },
    {
      "cell_type": "code",
      "source": [
        "word2idx_inputs = word_tokenizer.word_index\n",
        "word2idx_outputs = tag_token.word_index"
      ],
      "metadata": {
        "id": "0jPG1OXCQb0p"
      },
      "execution_count": null,
      "outputs": []
    },
    {
      "cell_type": "code",
      "source": [
        "encoder_model = Model(encoder_inputs, encoder_states)\n",
        "model.compile(optimizer='rmsprop', loss='categorical_crossentropy')\n",
        "# model.load_weights('encoder-decoder.h5')\n",
        "decoder_state_input_h = Input(shape=(latent_dim,))\n",
        "decoder_state_input_c = Input(shape=(latent_dim,))\n",
        "decoder_states_inputs = [decoder_state_input_h, decoder_state_input_c]\n",
        "decoder_inputs_single = Input(shape=(1,))\n",
        "decoder_inputs_single_x = decoder_embedding(decoder_inputs_single)\n",
        "decoder_outputs, h, c = decoder_lstm(decoder_inputs_single_x, initial_state=decoder_states_inputs)\n",
        "decoder_states = [h, c]\n",
        "decoder_outputs = decoder_dense(decoder_outputs)\n",
        "decoder_model = Model(\n",
        "    [decoder_inputs_single] + decoder_states_inputs,\n",
        "    [decoder_outputs] + decoder_states\n",
        ")\n",
        "\n",
        "\n",
        "idx2word_input = {v:k for k, v in word2idx_inputs.items()}\n",
        "idx2word_target = {v:k for k, v in word2idx_outputs.items()}\n",
        "\n",
        "def tag(input_seq):\n",
        "    states_value = encoder_model.predict(input_seq, verbose = 0)\n",
        "    target_seq = np.zeros((1, 1))\n",
        "    target_seq[0, 0] = 13\n",
        "    eos = 14\n",
        "    output_sentence = []\n",
        "    for i in range(MAX_LENGTH):\n",
        "        output_tokens, h, c = decoder_model.predict([target_seq] + states_value, verbose = 0)\n",
        "        # print(output_tokens[0, 0, :])\n",
        "        idx = np.argmax(output_tokens[0][0])\n",
        "        # idx = np.argmax(output_tokens[0, -1, :])\n",
        "        # print(idx, end=\" \")\n",
        "        # print(i)\n",
        "        if eos == idx:\n",
        "            break\n",
        "\n",
        "        word = ''\n",
        "      \n",
        "        if idx > 0:\n",
        "            word = idx2word_target[idx]\n",
        "            output_sentence.append(word)\n",
        "        \n",
        "        target_seq = np.zeros((1, 1))\n",
        "        target_seq[0, 0] = idx\n",
        "        states_value = [h, c]\n",
        "\n",
        "    x = ' '.join(output_sentence)\n",
        "    return x\n",
        "    # return output_sentence\n",
        "\n",
        "# input_integer_seq = word_tokenizer.texts_to_sequences(X_original)\n",
        "# encoder_input_sequences = pad_sequences(input_integer_seq, maxlen=MAX_LENGTH, padding=\"post\", truncating=\"pre\")\n",
        "\n",
        "# i = np.random.choice(len(X))\n",
        "# s = encoder_input_sequences[i:i+1]\n",
        "# x = tag(s)\n",
        "# print(x)"
      ],
      "metadata": {
        "id": "0IlSHIL2Qdmz"
      },
      "execution_count": null,
      "outputs": []
    },
    {
      "cell_type": "markdown",
      "source": [
        "Manual Test"
      ],
      "metadata": {
        "id": "H-2pGDUd4TTg"
      }
    },
    {
      "cell_type": "code",
      "source": [
        "# x = ['i am not anymore the champion i used to be once and hence i will not do this kind of things anymore']\n",
        "s = ['No skipping classes from tomorrow']\n",
        "s = word_tokenizer.texts_to_sequences(s)\n",
        "s = pad_sequences(s, maxlen=MAX_LENGTH, padding=\"post\", truncating=\"pre\")\n",
        "\n",
        "# x = tag(test_samples_X)\n",
        "# i = np.random.choice(len(X))\n",
        "# s = encoder_input_sequences[i:i+1]\n",
        "val = tag(s)\n",
        "val\n",
        "# input_seq"
      ],
      "metadata": {
        "id": "ozy3vA8KYz30",
        "colab": {
          "base_uri": "https://localhost:8080/",
          "height": 35
        },
        "outputId": "44042edc-951c-4d0f-9908-33f3621411f0"
      },
      "execution_count": null,
      "outputs": [
        {
          "output_type": "execute_result",
          "data": {
            "text/plain": [
              "'det verb noun adp noun'"
            ],
            "application/vnd.google.colaboratory.intrinsic+json": {
              "type": "string"
            }
          },
          "metadata": {},
          "execution_count": 21
        }
      ]
    },
    {
      "cell_type": "markdown",
      "source": [
        "Result Analysis"
      ],
      "metadata": {
        "id": "MnXS1SlyouSp"
      }
    },
    {
      "cell_type": "code",
      "source": [
        "# word_tokenize(x)"
      ],
      "metadata": {
        "id": "SyPz2dnywQfY"
      },
      "execution_count": null,
      "outputs": []
    },
    {
      "cell_type": "code",
      "source": [
        "# noun noun verb verb adp det noun adp noun noun .\n",
        "# det noun verb verb adp det noun .\n",
        "# noun verb verb . .\n",
        "# pron verb verb adp det noun adp det noun adp det noun adp det noun adp det noun adp det noun ."
      ],
      "metadata": {
        "id": "ogLz1WjcZwX4"
      },
      "execution_count": null,
      "outputs": []
    },
    {
      "cell_type": "code",
      "source": [
        "from sklearn.metrics import multilabel_confusion_matrix\n",
        "import nltk\n",
        "nltk.download('punkt')\n",
        "mat = np.zeros((12,12))\n",
        "token_list = {\"noun\": 1, \"verb\": 2, \".\": 3, \"adp\": 4, \"det\": 5, \"adj\": 6, \"adv\": 7, \"pron\": 8, \"conj\": 9, \"prt\": 10, \"num\": 11, \"x\": 12}"
      ],
      "metadata": {
        "colab": {
          "base_uri": "https://localhost:8080/"
        },
        "id": "hLinwZF0zrNe",
        "outputId": "96b59fe7-bdf4-4625-dfcd-3cd8a1f62f5b"
      },
      "execution_count": null,
      "outputs": [
        {
          "output_type": "stream",
          "name": "stderr",
          "text": [
            "[nltk_data] Downloading package punkt to /root/nltk_data...\n",
            "[nltk_data]   Unzipping tokenizers/punkt.zip.\n"
          ]
        }
      ]
    },
    {
      "cell_type": "code",
      "source": [
        "trueLabel = []\n",
        "predictedLabel = []\n",
        "for i in range(len(X_final_test)):\n",
        "  if i % 10  == 0:\n",
        "    print(i)\n",
        "\n",
        "  s = word_tokenizer.texts_to_sequences([X_final_test[i][:-1]])\n",
        "  s = pad_sequences(s, maxlen=MAX_LENGTH, padding=\"post\", truncating=\"pre\")\n",
        "  val = tag(s)\n",
        "\n",
        "  # print('Predicted: ', val)\n",
        "  # print('Actual: ', Y_final_test[i])\n",
        "\n",
        "  y = word_tokenize(Y_final_test[i])\n",
        "  val = word_tokenize(val)\n",
        "\n",
        "  for i in range (len(y)):\n",
        "    trueLabel.append(y[i])\n",
        "    if i < len(val):\n",
        "      predictedLabel.append(val[i])\n",
        "    else:\n",
        "      predictedLabel.append('x')\n",
        "\n",
        "  # print(val)\n",
        "  # print(y)\n",
        "\n",
        "  for j in range(min(len(y), len(val))):\n",
        "    mat[token_list[val[j].lower()] - 1][token_list[y[j].lower()] - 1] += 1"
      ],
      "metadata": {
        "id": "IvtnhKjprCvm",
        "colab": {
          "base_uri": "https://localhost:8080/"
        },
        "outputId": "1c5a4227-d910-486e-d62b-ba21189cb739"
      },
      "execution_count": null,
      "outputs": [
        {
          "output_type": "stream",
          "name": "stdout",
          "text": [
            "0\n",
            "10\n",
            "20\n",
            "30\n",
            "40\n",
            "50\n",
            "60\n",
            "70\n"
          ]
        }
      ]
    },
    {
      "cell_type": "markdown",
      "source": [
        "Confusion Matrix"
      ],
      "metadata": {
        "id": "vW5SxXeO4Kuz"
      }
    },
    {
      "cell_type": "code",
      "source": [
        "new_mat = []\n",
        "for i in range(12):\n",
        "  lst = []\n",
        "  for j in range(12):\n",
        "    lst.append(0)\n",
        "  new_mat.append(lst)\n",
        "\n",
        "for i in range(len(mat)):\n",
        "  for j in range(len(mat[i])):\n",
        "    new_mat[i][j] = int(mat[i][j])\n",
        "\n",
        "# for i in range(len(mat)):\n",
        "#   for j in range(len(mat[i])):\n",
        "#     print(new_mat[i][j], end=\" \")\n",
        "#   print()\n",
        "\n",
        "cnf_mat = pd.DataFrame(new_mat)"
      ],
      "metadata": {
        "id": "AaJtsyPeTTDn"
      },
      "execution_count": null,
      "outputs": []
    },
    {
      "cell_type": "code",
      "source": [
        "cnf_mat"
      ],
      "metadata": {
        "id": "4IdcERzQZiUB",
        "colab": {
          "base_uri": "https://localhost:8080/",
          "height": 425
        },
        "outputId": "4c6625a6-bd0c-4fa1-ca76-24626f8a1b51"
      },
      "execution_count": null,
      "outputs": [
        {
          "output_type": "execute_result",
          "data": {
            "text/plain": [
              "     0    1   2   3   4   5   6   7   8   9   10  11\n",
              "0   171   30  21  37  43  32   5   3   7   7   4   1\n",
              "1    32  105   9  15  11  13   6  15   4   9   2   0\n",
              "2     6    4   1   1   2   1   2   2   0   1   0   0\n",
              "3    41   15   9  75  13  11   9   5   6   4   2   0\n",
              "4    22   12   8  24  60   7   4   5   4   2   1   0\n",
              "5    19    8   8  15  10  29   8   1   2   0   0   0\n",
              "6     3    4   7   5   0   5  25   3   2   0   0   2\n",
              "7     9    9   9   9   3   0   0  26   2   0   0   0\n",
              "8    12    2   6   2   1   1   1   2  12   1   1   0\n",
              "9     5   11   3   4   2   1   2   3   1  13   0   0\n",
              "10    4    1   4   2   0   1   2   0   0   0  11   0\n",
              "11    0    0   0   0   0   0   0   0   0   0   0   0"
            ],
            "text/html": [
              "\n",
              "  <div id=\"df-60908342-86ce-49d1-b139-c7346e06cab4\">\n",
              "    <div class=\"colab-df-container\">\n",
              "      <div>\n",
              "<style scoped>\n",
              "    .dataframe tbody tr th:only-of-type {\n",
              "        vertical-align: middle;\n",
              "    }\n",
              "\n",
              "    .dataframe tbody tr th {\n",
              "        vertical-align: top;\n",
              "    }\n",
              "\n",
              "    .dataframe thead th {\n",
              "        text-align: right;\n",
              "    }\n",
              "</style>\n",
              "<table border=\"1\" class=\"dataframe\">\n",
              "  <thead>\n",
              "    <tr style=\"text-align: right;\">\n",
              "      <th></th>\n",
              "      <th>0</th>\n",
              "      <th>1</th>\n",
              "      <th>2</th>\n",
              "      <th>3</th>\n",
              "      <th>4</th>\n",
              "      <th>5</th>\n",
              "      <th>6</th>\n",
              "      <th>7</th>\n",
              "      <th>8</th>\n",
              "      <th>9</th>\n",
              "      <th>10</th>\n",
              "      <th>11</th>\n",
              "    </tr>\n",
              "  </thead>\n",
              "  <tbody>\n",
              "    <tr>\n",
              "      <th>0</th>\n",
              "      <td>171</td>\n",
              "      <td>30</td>\n",
              "      <td>21</td>\n",
              "      <td>37</td>\n",
              "      <td>43</td>\n",
              "      <td>32</td>\n",
              "      <td>5</td>\n",
              "      <td>3</td>\n",
              "      <td>7</td>\n",
              "      <td>7</td>\n",
              "      <td>4</td>\n",
              "      <td>1</td>\n",
              "    </tr>\n",
              "    <tr>\n",
              "      <th>1</th>\n",
              "      <td>32</td>\n",
              "      <td>105</td>\n",
              "      <td>9</td>\n",
              "      <td>15</td>\n",
              "      <td>11</td>\n",
              "      <td>13</td>\n",
              "      <td>6</td>\n",
              "      <td>15</td>\n",
              "      <td>4</td>\n",
              "      <td>9</td>\n",
              "      <td>2</td>\n",
              "      <td>0</td>\n",
              "    </tr>\n",
              "    <tr>\n",
              "      <th>2</th>\n",
              "      <td>6</td>\n",
              "      <td>4</td>\n",
              "      <td>1</td>\n",
              "      <td>1</td>\n",
              "      <td>2</td>\n",
              "      <td>1</td>\n",
              "      <td>2</td>\n",
              "      <td>2</td>\n",
              "      <td>0</td>\n",
              "      <td>1</td>\n",
              "      <td>0</td>\n",
              "      <td>0</td>\n",
              "    </tr>\n",
              "    <tr>\n",
              "      <th>3</th>\n",
              "      <td>41</td>\n",
              "      <td>15</td>\n",
              "      <td>9</td>\n",
              "      <td>75</td>\n",
              "      <td>13</td>\n",
              "      <td>11</td>\n",
              "      <td>9</td>\n",
              "      <td>5</td>\n",
              "      <td>6</td>\n",
              "      <td>4</td>\n",
              "      <td>2</td>\n",
              "      <td>0</td>\n",
              "    </tr>\n",
              "    <tr>\n",
              "      <th>4</th>\n",
              "      <td>22</td>\n",
              "      <td>12</td>\n",
              "      <td>8</td>\n",
              "      <td>24</td>\n",
              "      <td>60</td>\n",
              "      <td>7</td>\n",
              "      <td>4</td>\n",
              "      <td>5</td>\n",
              "      <td>4</td>\n",
              "      <td>2</td>\n",
              "      <td>1</td>\n",
              "      <td>0</td>\n",
              "    </tr>\n",
              "    <tr>\n",
              "      <th>5</th>\n",
              "      <td>19</td>\n",
              "      <td>8</td>\n",
              "      <td>8</td>\n",
              "      <td>15</td>\n",
              "      <td>10</td>\n",
              "      <td>29</td>\n",
              "      <td>8</td>\n",
              "      <td>1</td>\n",
              "      <td>2</td>\n",
              "      <td>0</td>\n",
              "      <td>0</td>\n",
              "      <td>0</td>\n",
              "    </tr>\n",
              "    <tr>\n",
              "      <th>6</th>\n",
              "      <td>3</td>\n",
              "      <td>4</td>\n",
              "      <td>7</td>\n",
              "      <td>5</td>\n",
              "      <td>0</td>\n",
              "      <td>5</td>\n",
              "      <td>25</td>\n",
              "      <td>3</td>\n",
              "      <td>2</td>\n",
              "      <td>0</td>\n",
              "      <td>0</td>\n",
              "      <td>2</td>\n",
              "    </tr>\n",
              "    <tr>\n",
              "      <th>7</th>\n",
              "      <td>9</td>\n",
              "      <td>9</td>\n",
              "      <td>9</td>\n",
              "      <td>9</td>\n",
              "      <td>3</td>\n",
              "      <td>0</td>\n",
              "      <td>0</td>\n",
              "      <td>26</td>\n",
              "      <td>2</td>\n",
              "      <td>0</td>\n",
              "      <td>0</td>\n",
              "      <td>0</td>\n",
              "    </tr>\n",
              "    <tr>\n",
              "      <th>8</th>\n",
              "      <td>12</td>\n",
              "      <td>2</td>\n",
              "      <td>6</td>\n",
              "      <td>2</td>\n",
              "      <td>1</td>\n",
              "      <td>1</td>\n",
              "      <td>1</td>\n",
              "      <td>2</td>\n",
              "      <td>12</td>\n",
              "      <td>1</td>\n",
              "      <td>1</td>\n",
              "      <td>0</td>\n",
              "    </tr>\n",
              "    <tr>\n",
              "      <th>9</th>\n",
              "      <td>5</td>\n",
              "      <td>11</td>\n",
              "      <td>3</td>\n",
              "      <td>4</td>\n",
              "      <td>2</td>\n",
              "      <td>1</td>\n",
              "      <td>2</td>\n",
              "      <td>3</td>\n",
              "      <td>1</td>\n",
              "      <td>13</td>\n",
              "      <td>0</td>\n",
              "      <td>0</td>\n",
              "    </tr>\n",
              "    <tr>\n",
              "      <th>10</th>\n",
              "      <td>4</td>\n",
              "      <td>1</td>\n",
              "      <td>4</td>\n",
              "      <td>2</td>\n",
              "      <td>0</td>\n",
              "      <td>1</td>\n",
              "      <td>2</td>\n",
              "      <td>0</td>\n",
              "      <td>0</td>\n",
              "      <td>0</td>\n",
              "      <td>11</td>\n",
              "      <td>0</td>\n",
              "    </tr>\n",
              "    <tr>\n",
              "      <th>11</th>\n",
              "      <td>0</td>\n",
              "      <td>0</td>\n",
              "      <td>0</td>\n",
              "      <td>0</td>\n",
              "      <td>0</td>\n",
              "      <td>0</td>\n",
              "      <td>0</td>\n",
              "      <td>0</td>\n",
              "      <td>0</td>\n",
              "      <td>0</td>\n",
              "      <td>0</td>\n",
              "      <td>0</td>\n",
              "    </tr>\n",
              "  </tbody>\n",
              "</table>\n",
              "</div>\n",
              "      <button class=\"colab-df-convert\" onclick=\"convertToInteractive('df-60908342-86ce-49d1-b139-c7346e06cab4')\"\n",
              "              title=\"Convert this dataframe to an interactive table.\"\n",
              "              style=\"display:none;\">\n",
              "        \n",
              "  <svg xmlns=\"http://www.w3.org/2000/svg\" height=\"24px\"viewBox=\"0 0 24 24\"\n",
              "       width=\"24px\">\n",
              "    <path d=\"M0 0h24v24H0V0z\" fill=\"none\"/>\n",
              "    <path d=\"M18.56 5.44l.94 2.06.94-2.06 2.06-.94-2.06-.94-.94-2.06-.94 2.06-2.06.94zm-11 1L8.5 8.5l.94-2.06 2.06-.94-2.06-.94L8.5 2.5l-.94 2.06-2.06.94zm10 10l.94 2.06.94-2.06 2.06-.94-2.06-.94-.94-2.06-.94 2.06-2.06.94z\"/><path d=\"M17.41 7.96l-1.37-1.37c-.4-.4-.92-.59-1.43-.59-.52 0-1.04.2-1.43.59L10.3 9.45l-7.72 7.72c-.78.78-.78 2.05 0 2.83L4 21.41c.39.39.9.59 1.41.59.51 0 1.02-.2 1.41-.59l7.78-7.78 2.81-2.81c.8-.78.8-2.07 0-2.86zM5.41 20L4 18.59l7.72-7.72 1.47 1.35L5.41 20z\"/>\n",
              "  </svg>\n",
              "      </button>\n",
              "      \n",
              "  <style>\n",
              "    .colab-df-container {\n",
              "      display:flex;\n",
              "      flex-wrap:wrap;\n",
              "      gap: 12px;\n",
              "    }\n",
              "\n",
              "    .colab-df-convert {\n",
              "      background-color: #E8F0FE;\n",
              "      border: none;\n",
              "      border-radius: 50%;\n",
              "      cursor: pointer;\n",
              "      display: none;\n",
              "      fill: #1967D2;\n",
              "      height: 32px;\n",
              "      padding: 0 0 0 0;\n",
              "      width: 32px;\n",
              "    }\n",
              "\n",
              "    .colab-df-convert:hover {\n",
              "      background-color: #E2EBFA;\n",
              "      box-shadow: 0px 1px 2px rgba(60, 64, 67, 0.3), 0px 1px 3px 1px rgba(60, 64, 67, 0.15);\n",
              "      fill: #174EA6;\n",
              "    }\n",
              "\n",
              "    [theme=dark] .colab-df-convert {\n",
              "      background-color: #3B4455;\n",
              "      fill: #D2E3FC;\n",
              "    }\n",
              "\n",
              "    [theme=dark] .colab-df-convert:hover {\n",
              "      background-color: #434B5C;\n",
              "      box-shadow: 0px 1px 3px 1px rgba(0, 0, 0, 0.15);\n",
              "      filter: drop-shadow(0px 1px 2px rgba(0, 0, 0, 0.3));\n",
              "      fill: #FFFFFF;\n",
              "    }\n",
              "  </style>\n",
              "\n",
              "      <script>\n",
              "        const buttonEl =\n",
              "          document.querySelector('#df-60908342-86ce-49d1-b139-c7346e06cab4 button.colab-df-convert');\n",
              "        buttonEl.style.display =\n",
              "          google.colab.kernel.accessAllowed ? 'block' : 'none';\n",
              "\n",
              "        async function convertToInteractive(key) {\n",
              "          const element = document.querySelector('#df-60908342-86ce-49d1-b139-c7346e06cab4');\n",
              "          const dataTable =\n",
              "            await google.colab.kernel.invokeFunction('convertToInteractive',\n",
              "                                                     [key], {});\n",
              "          if (!dataTable) return;\n",
              "\n",
              "          const docLinkHtml = 'Like what you see? Visit the ' +\n",
              "            '<a target=\"_blank\" href=https://colab.research.google.com/notebooks/data_table.ipynb>data table notebook</a>'\n",
              "            + ' to learn more about interactive tables.';\n",
              "          element.innerHTML = '';\n",
              "          dataTable['output_type'] = 'display_data';\n",
              "          await google.colab.output.renderOutput(dataTable, element);\n",
              "          const docLink = document.createElement('div');\n",
              "          docLink.innerHTML = docLinkHtml;\n",
              "          element.appendChild(docLink);\n",
              "        }\n",
              "      </script>\n",
              "    </div>\n",
              "  </div>\n",
              "  "
            ]
          },
          "metadata": {},
          "execution_count": 24
        }
      ]
    },
    {
      "cell_type": "code",
      "source": [
        "import seaborn as sns\n",
        "from matplotlib.pyplot import figure\n",
        "figure(figsize=(10,8))\n",
        "sns.heatmap(cnf_mat,annot=True,fmt='d',cmap=\"Blues\")"
      ],
      "metadata": {
        "id": "zWuVNLi7ZPtC",
        "colab": {
          "base_uri": "https://localhost:8080/",
          "height": 693
        },
        "outputId": "a94c11ff-f2ac-4a8e-95de-04bfe8b3282e"
      },
      "execution_count": null,
      "outputs": [
        {
          "output_type": "execute_result",
          "data": {
            "text/plain": [
              "<Axes: >"
            ]
          },
          "metadata": {},
          "execution_count": 25
        },
        {
          "output_type": "display_data",
          "data": {
            "text/plain": [
              "<Figure size 1000x800 with 2 Axes>"
            ],
            "image/png": "[encoded data removed]"
          },
          "metadata": {}
        }
      ]
    },
    {
      "cell_type": "markdown",
      "source": [
        "Precison and Recall"
      ],
      "metadata": {
        "id": "SnTR27Yj4Gsm"
      }
    },
    {
      "cell_type": "code",
      "source": [
        "allTagPrecision = []\n",
        "for i in range(len(new_mat)):\n",
        "  truePositive = new_mat[i][i]\n",
        "  sum = 0\n",
        "  for j in range(len(new_mat[i])):\n",
        "    sum = sum + new_mat[i][j]\n",
        "  if sum == 0:\n",
        "    allTagPrecision.append(0)\n",
        "  else:\n",
        "    allTagPrecision.append(truePositive/sum)"
      ],
      "metadata": {
        "id": "c1LACWnv15L9"
      },
      "execution_count": null,
      "outputs": []
    },
    {
      "cell_type": "code",
      "source": [
        "allTagPrecision"
      ],
      "metadata": {
        "colab": {
          "base_uri": "https://localhost:8080/"
        },
        "id": "NqyV0BY850jO",
        "outputId": "e4b249ee-1306-4f85-cd71-499db33639e9"
      },
      "execution_count": null,
      "outputs": [
        {
          "output_type": "execute_result",
          "data": {
            "text/plain": [
              "[0.47368421052631576,\n",
              " 0.4751131221719457,\n",
              " 0.05,\n",
              " 0.39473684210526316,\n",
              " 0.40268456375838924,\n",
              " 0.29,\n",
              " 0.44642857142857145,\n",
              " 0.3880597014925373,\n",
              " 0.2926829268292683,\n",
              " 0.28888888888888886,\n",
              " 0.44,\n",
              " 0]"
            ]
          },
          "metadata": {},
          "execution_count": 27
        }
      ]
    },
    {
      "cell_type": "code",
      "source": [
        "allTagRecall = []\n",
        "for i in range(len(new_mat)):\n",
        "  truePositive = new_mat[i][i]\n",
        "  sum = 0\n",
        "  for j in range(len(new_mat[i])):\n",
        "    sum = sum + new_mat[j][i]\n",
        "  if sum == 0:\n",
        "    allTagRecall.append(0)\n",
        "  else:\n",
        "    allTagRecall.append(truePositive/sum)"
      ],
      "metadata": {
        "id": "3dl-QDTA2f_G"
      },
      "execution_count": null,
      "outputs": []
    },
    {
      "cell_type": "code",
      "source": [
        "allTagRecall"
      ],
      "metadata": {
        "colab": {
          "base_uri": "https://localhost:8080/"
        },
        "id": "CZLcLacd7Jkf",
        "outputId": "9dfb4a0e-81e4-4981-d8f9-f9278fe09c7f"
      },
      "execution_count": null,
      "outputs": [
        {
          "output_type": "execute_result",
          "data": {
            "text/plain": [
              "[0.5277777777777778,\n",
              " 0.5223880597014925,\n",
              " 0.011764705882352941,\n",
              " 0.3968253968253968,\n",
              " 0.41379310344827586,\n",
              " 0.2871287128712871,\n",
              " 0.390625,\n",
              " 0.4,\n",
              " 0.3,\n",
              " 0.35135135135135137,\n",
              " 0.5238095238095238,\n",
              " 0.0]"
            ]
          },
          "metadata": {},
          "execution_count": 29
        }
      ]
    },
    {
      "cell_type": "code",
      "source": [
        "f1_score = []\n",
        "for i in range(12):\n",
        "  if (allTagPrecision[i]+allTagRecall[i]) == 0:\n",
        "    f1_score.append(0)\n",
        "  else:\n",
        "    val = (2*allTagPrecision[i]*allTagRecall[i])/(allTagPrecision[i]+allTagRecall[i])\n",
        "    f1_score.append(val)"
      ],
      "metadata": {
        "id": "CjHW7lKsCX58"
      },
      "execution_count": null,
      "outputs": []
    },
    {
      "cell_type": "code",
      "source": [
        "f1_score"
      ],
      "metadata": {
        "colab": {
          "base_uri": "https://localhost:8080/"
        },
        "id": "VbjtuYFTC6cp",
        "outputId": "7a6fcfa5-c2c7-4ba9-bd11-441639854c85"
      },
      "execution_count": null,
      "outputs": [
        {
          "output_type": "execute_result",
          "data": {
            "text/plain": [
              "[0.4992700729927007,\n",
              " 0.4976303317535545,\n",
              " 0.01904761904761905,\n",
              " 0.39577836411609496,\n",
              " 0.40816326530612246,\n",
              " 0.2885572139303482,\n",
              " 0.4166666666666667,\n",
              " 0.393939393939394,\n",
              " 0.2962962962962963,\n",
              " 0.31707317073170727,\n",
              " 0.4782608695652174,\n",
              " 0]"
            ]
          },
          "metadata": {},
          "execution_count": 31
        }
      ]
    },
    {
      "cell_type": "code",
      "source": [
        "tag_list = [\"noun\", \"verb\", \".\", \"adp\", \"det\", \"adj\", \"adv\", \"pron\", \"conj\", \"prt\", \"num\", \"x\"]"
      ],
      "metadata": {
        "id": "BjkbItp3BEpK"
      },
      "execution_count": null,
      "outputs": []
    },
    {
      "cell_type": "code",
      "source": [
        "metricData = []\n",
        "for i in range(12):\n",
        "  temp = []\n",
        "  temp.append(allTagPrecision[i])\n",
        "  temp.append(allTagRecall[i])\n",
        "  temp.append(f1_score[i])\n",
        "  metricData.append(temp)"
      ],
      "metadata": {
        "id": "ut7VmRF0Dz8I"
      },
      "execution_count": null,
      "outputs": []
    },
    {
      "cell_type": "code",
      "source": [
        "metricDataFrame = pd.DataFrame(metricData)"
      ],
      "metadata": {
        "id": "bw2HuThiEXMZ"
      },
      "execution_count": null,
      "outputs": []
    },
    {
      "cell_type": "code",
      "source": [
        "metricDataFrame.columns = ['Precison','Recall','F1-Score']\n",
        "metricDataFrame.index = tag_list\n",
        "metricDataFrame"
      ],
      "metadata": {
        "colab": {
          "base_uri": "https://localhost:8080/",
          "height": 425
        },
        "id": "s141A2PzEXCg",
        "outputId": "8d6d712b-e515-4acf-a9da-7d1f14e1e707"
      },
      "execution_count": null,
      "outputs": [
        {
          "output_type": "execute_result",
          "data": {
            "text/plain": [
              "      Precison    Recall  F1-Score\n",
              "noun  0.473684  0.527778  0.499270\n",
              "verb  0.475113  0.522388  0.497630\n",
              ".     0.050000  0.011765  0.019048\n",
              "adp   0.394737  0.396825  0.395778\n",
              "det   0.402685  0.413793  0.408163\n",
              "adj   0.290000  0.287129  0.288557\n",
              "adv   0.446429  0.390625  0.416667\n",
              "pron  0.388060  0.400000  0.393939\n",
              "conj  0.292683  0.300000  0.296296\n",
              "prt   0.288889  0.351351  0.317073\n",
              "num   0.440000  0.523810  0.478261\n",
              "x     0.000000  0.000000  0.000000"
            ],
            "text/html": [
              "\n",
              "  <div id=\"df-30f009f3-d869-4e73-bdbf-2e98065139c9\">\n",
              "    <div class=\"colab-df-container\">\n",
              "      <div>\n",
              "<style scoped>\n",
              "    .dataframe tbody tr th:only-of-type {\n",
              "        vertical-align: middle;\n",
              "    }\n",
              "\n",
              "    .dataframe tbody tr th {\n",
              "        vertical-align: top;\n",
              "    }\n",
              "\n",
              "    .dataframe thead th {\n",
              "        text-align: right;\n",
              "    }\n",
              "</style>\n",
              "<table border=\"1\" class=\"dataframe\">\n",
              "  <thead>\n",
              "    <tr style=\"text-align: right;\">\n",
              "      <th></th>\n",
              "      <th>Precison</th>\n",
              "      <th>Recall</th>\n",
              "      <th>F1-Score</th>\n",
              "    </tr>\n",
              "  </thead>\n",
              "  <tbody>\n",
              "    <tr>\n",
              "      <th>noun</th>\n",
              "      <td>0.473684</td>\n",
              "      <td>0.527778</td>\n",
              "      <td>0.499270</td>\n",
              "    </tr>\n",
              "    <tr>\n",
              "      <th>verb</th>\n",
              "      <td>0.475113</td>\n",
              "      <td>0.522388</td>\n",
              "      <td>0.497630</td>\n",
              "    </tr>\n",
              "    <tr>\n",
              "      <th>.</th>\n",
              "      <td>0.050000</td>\n",
              "      <td>0.011765</td>\n",
              "      <td>0.019048</td>\n",
              "    </tr>\n",
              "    <tr>\n",
              "      <th>adp</th>\n",
              "      <td>0.394737</td>\n",
              "      <td>0.396825</td>\n",
              "      <td>0.395778</td>\n",
              "    </tr>\n",
              "    <tr>\n",
              "      <th>det</th>\n",
              "      <td>0.402685</td>\n",
              "      <td>0.413793</td>\n",
              "      <td>0.408163</td>\n",
              "    </tr>\n",
              "    <tr>\n",
              "      <th>adj</th>\n",
              "      <td>0.290000</td>\n",
              "      <td>0.287129</td>\n",
              "      <td>0.288557</td>\n",
              "    </tr>\n",
              "    <tr>\n",
              "      <th>adv</th>\n",
              "      <td>0.446429</td>\n",
              "      <td>0.390625</td>\n",
              "      <td>0.416667</td>\n",
              "    </tr>\n",
              "    <tr>\n",
              "      <th>pron</th>\n",
              "      <td>0.388060</td>\n",
              "      <td>0.400000</td>\n",
              "      <td>0.393939</td>\n",
              "    </tr>\n",
              "    <tr>\n",
              "      <th>conj</th>\n",
              "      <td>0.292683</td>\n",
              "      <td>0.300000</td>\n",
              "      <td>0.296296</td>\n",
              "    </tr>\n",
              "    <tr>\n",
              "      <th>prt</th>\n",
              "      <td>0.288889</td>\n",
              "      <td>0.351351</td>\n",
              "      <td>0.317073</td>\n",
              "    </tr>\n",
              "    <tr>\n",
              "      <th>num</th>\n",
              "      <td>0.440000</td>\n",
              "      <td>0.523810</td>\n",
              "      <td>0.478261</td>\n",
              "    </tr>\n",
              "    <tr>\n",
              "      <th>x</th>\n",
              "      <td>0.000000</td>\n",
              "      <td>0.000000</td>\n",
              "      <td>0.000000</td>\n",
              "    </tr>\n",
              "  </tbody>\n",
              "</table>\n",
              "</div>\n",
              "      <button class=\"colab-df-convert\" onclick=\"convertToInteractive('df-30f009f3-d869-4e73-bdbf-2e98065139c9')\"\n",
              "              title=\"Convert this dataframe to an interactive table.\"\n",
              "              style=\"display:none;\">\n",
              "        \n",
              "  <svg xmlns=\"http://www.w3.org/2000/svg\" height=\"24px\"viewBox=\"0 0 24 24\"\n",
              "       width=\"24px\">\n",
              "    <path d=\"M0 0h24v24H0V0z\" fill=\"none\"/>\n",
              "    <path d=\"M18.56 5.44l.94 2.06.94-2.06 2.06-.94-2.06-.94-.94-2.06-.94 2.06-2.06.94zm-11 1L8.5 8.5l.94-2.06 2.06-.94-2.06-.94L8.5 2.5l-.94 2.06-2.06.94zm10 10l.94 2.06.94-2.06 2.06-.94-2.06-.94-.94-2.06-.94 2.06-2.06.94z\"/><path d=\"M17.41 7.96l-1.37-1.37c-.4-.4-.92-.59-1.43-.59-.52 0-1.04.2-1.43.59L10.3 9.45l-7.72 7.72c-.78.78-.78 2.05 0 2.83L4 21.41c.39.39.9.59 1.41.59.51 0 1.02-.2 1.41-.59l7.78-7.78 2.81-2.81c.8-.78.8-2.07 0-2.86zM5.41 20L4 18.59l7.72-7.72 1.47 1.35L5.41 20z\"/>\n",
              "  </svg>\n",
              "      </button>\n",
              "      \n",
              "  <style>\n",
              "    .colab-df-container {\n",
              "      display:flex;\n",
              "      flex-wrap:wrap;\n",
              "      gap: 12px;\n",
              "    }\n",
              "\n",
              "    .colab-df-convert {\n",
              "      background-color: #E8F0FE;\n",
              "      border: none;\n",
              "      border-radius: 50%;\n",
              "      cursor: pointer;\n",
              "      display: none;\n",
              "      fill: #1967D2;\n",
              "      height: 32px;\n",
              "      padding: 0 0 0 0;\n",
              "      width: 32px;\n",
              "    }\n",
              "\n",
              "    .colab-df-convert:hover {\n",
              "      background-color: #E2EBFA;\n",
              "      box-shadow: 0px 1px 2px rgba(60, 64, 67, 0.3), 0px 1px 3px 1px rgba(60, 64, 67, 0.15);\n",
              "      fill: #174EA6;\n",
              "    }\n",
              "\n",
              "    [theme=dark] .colab-df-convert {\n",
              "      background-color: #3B4455;\n",
              "      fill: #D2E3FC;\n",
              "    }\n",
              "\n",
              "    [theme=dark] .colab-df-convert:hover {\n",
              "      background-color: #434B5C;\n",
              "      box-shadow: 0px 1px 3px 1px rgba(0, 0, 0, 0.15);\n",
              "      filter: drop-shadow(0px 1px 2px rgba(0, 0, 0, 0.3));\n",
              "      fill: #FFFFFF;\n",
              "    }\n",
              "  </style>\n",
              "\n",
              "      <script>\n",
              "        const buttonEl =\n",
              "          document.querySelector('#df-30f009f3-d869-4e73-bdbf-2e98065139c9 button.colab-df-convert');\n",
              "        buttonEl.style.display =\n",
              "          google.colab.kernel.accessAllowed ? 'block' : 'none';\n",
              "\n",
              "        async function convertToInteractive(key) {\n",
              "          const element = document.querySelector('#df-30f009f3-d869-4e73-bdbf-2e98065139c9');\n",
              "          const dataTable =\n",
              "            await google.colab.kernel.invokeFunction('convertToInteractive',\n",
              "                                                     [key], {});\n",
              "          if (!dataTable) return;\n",
              "\n",
              "          const docLinkHtml = 'Like what you see? Visit the ' +\n",
              "            '<a target=\"_blank\" href=https://colab.research.google.com/notebooks/data_table.ipynb>data table notebook</a>'\n",
              "            + ' to learn more about interactive tables.';\n",
              "          element.innerHTML = '';\n",
              "          dataTable['output_type'] = 'display_data';\n",
              "          await google.colab.output.renderOutput(dataTable, element);\n",
              "          const docLink = document.createElement('div');\n",
              "          docLink.innerHTML = docLinkHtml;\n",
              "          element.appendChild(docLink);\n",
              "        }\n",
              "      </script>\n",
              "    </div>\n",
              "  </div>\n",
              "  "
            ]
          },
          "metadata": {},
          "execution_count": 35
        }
      ]
    },
    {
      "cell_type": "code",
      "source": [],
      "metadata": {
        "id": "2KmLDuNqEW_T"
      },
      "execution_count": null,
      "outputs": []
    },
    {
      "cell_type": "code",
      "source": [
        "word_tokenize(Y_final_test[0][:-1])"
      ],
      "metadata": {
        "id": "_4oN7GW4wJuh"
      },
      "execution_count": null,
      "outputs": []
    },
    {
      "cell_type": "code",
      "source": [
        "l = np.zeros((5,6))\n",
        "l[1,2] = 3"
      ],
      "metadata": {
        "id": "dQuD1sxowuHF"
      },
      "execution_count": null,
      "outputs": []
    },
    {
      "cell_type": "code",
      "source": [
        "l"
      ],
      "metadata": {
        "id": "LecQkrUt0fRG",
        "colab": {
          "base_uri": "https://localhost:8080/"
        },
        "outputId": "ec72eebb-81ce-46ff-ecb1-ffcf865c88ed"
      },
      "execution_count": null,
      "outputs": [
        {
          "output_type": "execute_result",
          "data": {
            "text/plain": [
              "array([[0., 0., 0., 0., 0., 0.],\n",
              "       [0., 0., 3., 0., 0., 0.],\n",
              "       [0., 0., 0., 0., 0., 0.],\n",
              "       [0., 0., 0., 0., 0., 0.],\n",
              "       [0., 0., 0., 0., 0., 0.]])"
            ]
          },
          "metadata": {},
          "execution_count": 80
        }
      ]
    },
    {
      "cell_type": "code",
      "source": [],
      "metadata": {
        "id": "h9QCwvNPvrT0"
      },
      "execution_count": null,
      "outputs": []
    }
  ]
}